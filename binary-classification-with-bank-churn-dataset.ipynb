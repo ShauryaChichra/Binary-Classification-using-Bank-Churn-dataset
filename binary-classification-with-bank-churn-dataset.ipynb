{
 "cells": [
  {
   "cell_type": "markdown",
   "id": "785160e6",
   "metadata": {
    "papermill": {
     "duration": 0.011504,
     "end_time": "2024-01-17T09:56:36.847216",
     "exception": false,
     "start_time": "2024-01-17T09:56:36.835712",
     "status": "completed"
    },
    "tags": []
   },
   "source": [
    "## Import  <a class=\"anchor\"  id=\"chapter1\"></a>"
   ]
  },
  {
   "cell_type": "code",
   "execution_count": 1,
   "id": "b3edb016",
   "metadata": {
    "_cell_guid": "b1076dfc-b9ad-4769-8c92-a6c4dae69d19",
    "_uuid": "8f2839f25d086af736a60e9eeb907d3b93b6e0e5",
    "execution": {
     "iopub.execute_input": "2024-01-17T09:56:36.870500Z",
     "iopub.status.busy": "2024-01-17T09:56:36.869673Z",
     "iopub.status.idle": "2024-01-17T09:56:37.278085Z",
     "shell.execute_reply": "2024-01-17T09:56:37.276336Z"
    },
    "papermill": {
     "duration": 0.422666,
     "end_time": "2024-01-17T09:56:37.281001",
     "exception": false,
     "start_time": "2024-01-17T09:56:36.858335",
     "status": "completed"
    },
    "tags": []
   },
   "outputs": [
    {
     "name": "stdout",
     "output_type": "stream",
     "text": [
      "/kaggle/input/playground-series-s4e1/sample_submission.csv\n",
      "/kaggle/input/playground-series-s4e1/train.csv\n",
      "/kaggle/input/playground-series-s4e1/test.csv\n"
     ]
    }
   ],
   "source": [
    "import numpy as np # linear algebra\n",
    "import pandas as pd # data processing, CSV file I/O (e.g. pd.read_csv)\n",
    "import os\n",
    "for dirname, _, filenames in os.walk('/kaggle/input'):\n",
    "    for filename in filenames:\n",
    "        print(os.path.join(dirname, filename))"
   ]
  },
  {
   "cell_type": "code",
   "execution_count": 2,
   "id": "60995a53",
   "metadata": {
    "execution": {
     "iopub.execute_input": "2024-01-17T09:56:37.302209Z",
     "iopub.status.busy": "2024-01-17T09:56:37.301680Z",
     "iopub.status.idle": "2024-01-17T09:56:38.022879Z",
     "shell.execute_reply": "2024-01-17T09:56:38.021886Z"
    },
    "papermill": {
     "duration": 0.734655,
     "end_time": "2024-01-17T09:56:38.025425",
     "exception": false,
     "start_time": "2024-01-17T09:56:37.290770",
     "status": "completed"
    },
    "tags": []
   },
   "outputs": [],
   "source": [
    "train=pd.read_csv(\"/kaggle/input/playground-series-s4e1/train.csv\")\n",
    "test=pd.read_csv(\"/kaggle/input/playground-series-s4e1/test.csv\")"
   ]
  },
  {
   "cell_type": "markdown",
   "id": "d295ca34",
   "metadata": {
    "papermill": {
     "duration": 0.010999,
     "end_time": "2024-01-17T09:56:38.046620",
     "exception": false,
     "start_time": "2024-01-17T09:56:38.035621",
     "status": "completed"
    },
    "tags": []
   },
   "source": [
    "## Exploring dataset <a class=\"anchor\"  id=\"chapter2\"></a>"
   ]
  },
  {
   "cell_type": "code",
   "execution_count": 3,
   "id": "cc8325e4",
   "metadata": {
    "execution": {
     "iopub.execute_input": "2024-01-17T09:56:38.068887Z",
     "iopub.status.busy": "2024-01-17T09:56:38.068428Z",
     "iopub.status.idle": "2024-01-17T09:56:38.103065Z",
     "shell.execute_reply": "2024-01-17T09:56:38.102066Z"
    },
    "papermill": {
     "duration": 0.049286,
     "end_time": "2024-01-17T09:56:38.105779",
     "exception": false,
     "start_time": "2024-01-17T09:56:38.056493",
     "status": "completed"
    },
    "tags": []
   },
   "outputs": [
    {
     "data": {
      "text/html": [
       "<div>\n",
       "<style scoped>\n",
       "    .dataframe tbody tr th:only-of-type {\n",
       "        vertical-align: middle;\n",
       "    }\n",
       "\n",
       "    .dataframe tbody tr th {\n",
       "        vertical-align: top;\n",
       "    }\n",
       "\n",
       "    .dataframe thead th {\n",
       "        text-align: right;\n",
       "    }\n",
       "</style>\n",
       "<table border=\"1\" class=\"dataframe\">\n",
       "  <thead>\n",
       "    <tr style=\"text-align: right;\">\n",
       "      <th></th>\n",
       "      <th>id</th>\n",
       "      <th>CustomerId</th>\n",
       "      <th>Surname</th>\n",
       "      <th>CreditScore</th>\n",
       "      <th>Geography</th>\n",
       "      <th>Gender</th>\n",
       "      <th>Age</th>\n",
       "      <th>Tenure</th>\n",
       "      <th>Balance</th>\n",
       "      <th>NumOfProducts</th>\n",
       "      <th>HasCrCard</th>\n",
       "      <th>IsActiveMember</th>\n",
       "      <th>EstimatedSalary</th>\n",
       "      <th>Exited</th>\n",
       "    </tr>\n",
       "  </thead>\n",
       "  <tbody>\n",
       "    <tr>\n",
       "      <th>0</th>\n",
       "      <td>0</td>\n",
       "      <td>15674932</td>\n",
       "      <td>Okwudilichukwu</td>\n",
       "      <td>668</td>\n",
       "      <td>France</td>\n",
       "      <td>Male</td>\n",
       "      <td>33.0</td>\n",
       "      <td>3</td>\n",
       "      <td>0.00</td>\n",
       "      <td>2</td>\n",
       "      <td>1.0</td>\n",
       "      <td>0.0</td>\n",
       "      <td>181449.97</td>\n",
       "      <td>0</td>\n",
       "    </tr>\n",
       "    <tr>\n",
       "      <th>1</th>\n",
       "      <td>1</td>\n",
       "      <td>15749177</td>\n",
       "      <td>Okwudiliolisa</td>\n",
       "      <td>627</td>\n",
       "      <td>France</td>\n",
       "      <td>Male</td>\n",
       "      <td>33.0</td>\n",
       "      <td>1</td>\n",
       "      <td>0.00</td>\n",
       "      <td>2</td>\n",
       "      <td>1.0</td>\n",
       "      <td>1.0</td>\n",
       "      <td>49503.50</td>\n",
       "      <td>0</td>\n",
       "    </tr>\n",
       "    <tr>\n",
       "      <th>2</th>\n",
       "      <td>2</td>\n",
       "      <td>15694510</td>\n",
       "      <td>Hsueh</td>\n",
       "      <td>678</td>\n",
       "      <td>France</td>\n",
       "      <td>Male</td>\n",
       "      <td>40.0</td>\n",
       "      <td>10</td>\n",
       "      <td>0.00</td>\n",
       "      <td>2</td>\n",
       "      <td>1.0</td>\n",
       "      <td>0.0</td>\n",
       "      <td>184866.69</td>\n",
       "      <td>0</td>\n",
       "    </tr>\n",
       "    <tr>\n",
       "      <th>3</th>\n",
       "      <td>3</td>\n",
       "      <td>15741417</td>\n",
       "      <td>Kao</td>\n",
       "      <td>581</td>\n",
       "      <td>France</td>\n",
       "      <td>Male</td>\n",
       "      <td>34.0</td>\n",
       "      <td>2</td>\n",
       "      <td>148882.54</td>\n",
       "      <td>1</td>\n",
       "      <td>1.0</td>\n",
       "      <td>1.0</td>\n",
       "      <td>84560.88</td>\n",
       "      <td>0</td>\n",
       "    </tr>\n",
       "    <tr>\n",
       "      <th>4</th>\n",
       "      <td>4</td>\n",
       "      <td>15766172</td>\n",
       "      <td>Chiemenam</td>\n",
       "      <td>716</td>\n",
       "      <td>Spain</td>\n",
       "      <td>Male</td>\n",
       "      <td>33.0</td>\n",
       "      <td>5</td>\n",
       "      <td>0.00</td>\n",
       "      <td>2</td>\n",
       "      <td>1.0</td>\n",
       "      <td>1.0</td>\n",
       "      <td>15068.83</td>\n",
       "      <td>0</td>\n",
       "    </tr>\n",
       "  </tbody>\n",
       "</table>\n",
       "</div>"
      ],
      "text/plain": [
       "   id  CustomerId         Surname  CreditScore Geography Gender   Age  Tenure  \\\n",
       "0   0    15674932  Okwudilichukwu          668    France   Male  33.0       3   \n",
       "1   1    15749177   Okwudiliolisa          627    France   Male  33.0       1   \n",
       "2   2    15694510           Hsueh          678    France   Male  40.0      10   \n",
       "3   3    15741417             Kao          581    France   Male  34.0       2   \n",
       "4   4    15766172       Chiemenam          716     Spain   Male  33.0       5   \n",
       "\n",
       "     Balance  NumOfProducts  HasCrCard  IsActiveMember  EstimatedSalary  \\\n",
       "0       0.00              2        1.0             0.0        181449.97   \n",
       "1       0.00              2        1.0             1.0         49503.50   \n",
       "2       0.00              2        1.0             0.0        184866.69   \n",
       "3  148882.54              1        1.0             1.0         84560.88   \n",
       "4       0.00              2        1.0             1.0         15068.83   \n",
       "\n",
       "   Exited  \n",
       "0       0  \n",
       "1       0  \n",
       "2       0  \n",
       "3       0  \n",
       "4       0  "
      ]
     },
     "execution_count": 3,
     "metadata": {},
     "output_type": "execute_result"
    }
   ],
   "source": [
    "train.head()\n",
    "#type(train)"
   ]
  },
  {
   "cell_type": "code",
   "execution_count": 4,
   "id": "e47e70d7",
   "metadata": {
    "execution": {
     "iopub.execute_input": "2024-01-17T09:56:38.127631Z",
     "iopub.status.busy": "2024-01-17T09:56:38.127227Z",
     "iopub.status.idle": "2024-01-17T09:56:38.240249Z",
     "shell.execute_reply": "2024-01-17T09:56:38.238905Z"
    },
    "papermill": {
     "duration": 0.126896,
     "end_time": "2024-01-17T09:56:38.242850",
     "exception": false,
     "start_time": "2024-01-17T09:56:38.115954",
     "status": "completed"
    },
    "tags": []
   },
   "outputs": [
    {
     "data": {
      "text/html": [
       "<div>\n",
       "<style scoped>\n",
       "    .dataframe tbody tr th:only-of-type {\n",
       "        vertical-align: middle;\n",
       "    }\n",
       "\n",
       "    .dataframe tbody tr th {\n",
       "        vertical-align: top;\n",
       "    }\n",
       "\n",
       "    .dataframe thead th {\n",
       "        text-align: right;\n",
       "    }\n",
       "</style>\n",
       "<table border=\"1\" class=\"dataframe\">\n",
       "  <thead>\n",
       "    <tr style=\"text-align: right;\">\n",
       "      <th></th>\n",
       "      <th>id</th>\n",
       "      <th>CustomerId</th>\n",
       "      <th>CreditScore</th>\n",
       "      <th>Age</th>\n",
       "      <th>Tenure</th>\n",
       "      <th>Balance</th>\n",
       "      <th>NumOfProducts</th>\n",
       "      <th>HasCrCard</th>\n",
       "      <th>IsActiveMember</th>\n",
       "      <th>EstimatedSalary</th>\n",
       "      <th>Exited</th>\n",
       "    </tr>\n",
       "  </thead>\n",
       "  <tbody>\n",
       "    <tr>\n",
       "      <th>count</th>\n",
       "      <td>165034.0000</td>\n",
       "      <td>1.650340e+05</td>\n",
       "      <td>165034.000000</td>\n",
       "      <td>165034.000000</td>\n",
       "      <td>165034.000000</td>\n",
       "      <td>165034.000000</td>\n",
       "      <td>165034.000000</td>\n",
       "      <td>165034.000000</td>\n",
       "      <td>165034.000000</td>\n",
       "      <td>165034.000000</td>\n",
       "      <td>165034.000000</td>\n",
       "    </tr>\n",
       "    <tr>\n",
       "      <th>mean</th>\n",
       "      <td>82516.5000</td>\n",
       "      <td>1.569201e+07</td>\n",
       "      <td>656.454373</td>\n",
       "      <td>38.125888</td>\n",
       "      <td>5.020353</td>\n",
       "      <td>55478.086689</td>\n",
       "      <td>1.554455</td>\n",
       "      <td>0.753954</td>\n",
       "      <td>0.497770</td>\n",
       "      <td>112574.822734</td>\n",
       "      <td>0.211599</td>\n",
       "    </tr>\n",
       "    <tr>\n",
       "      <th>std</th>\n",
       "      <td>47641.3565</td>\n",
       "      <td>7.139782e+04</td>\n",
       "      <td>80.103340</td>\n",
       "      <td>8.867205</td>\n",
       "      <td>2.806159</td>\n",
       "      <td>62817.663278</td>\n",
       "      <td>0.547154</td>\n",
       "      <td>0.430707</td>\n",
       "      <td>0.499997</td>\n",
       "      <td>50292.865585</td>\n",
       "      <td>0.408443</td>\n",
       "    </tr>\n",
       "    <tr>\n",
       "      <th>min</th>\n",
       "      <td>0.0000</td>\n",
       "      <td>1.556570e+07</td>\n",
       "      <td>350.000000</td>\n",
       "      <td>18.000000</td>\n",
       "      <td>0.000000</td>\n",
       "      <td>0.000000</td>\n",
       "      <td>1.000000</td>\n",
       "      <td>0.000000</td>\n",
       "      <td>0.000000</td>\n",
       "      <td>11.580000</td>\n",
       "      <td>0.000000</td>\n",
       "    </tr>\n",
       "    <tr>\n",
       "      <th>25%</th>\n",
       "      <td>41258.2500</td>\n",
       "      <td>1.563314e+07</td>\n",
       "      <td>597.000000</td>\n",
       "      <td>32.000000</td>\n",
       "      <td>3.000000</td>\n",
       "      <td>0.000000</td>\n",
       "      <td>1.000000</td>\n",
       "      <td>1.000000</td>\n",
       "      <td>0.000000</td>\n",
       "      <td>74637.570000</td>\n",
       "      <td>0.000000</td>\n",
       "    </tr>\n",
       "    <tr>\n",
       "      <th>50%</th>\n",
       "      <td>82516.5000</td>\n",
       "      <td>1.569017e+07</td>\n",
       "      <td>659.000000</td>\n",
       "      <td>37.000000</td>\n",
       "      <td>5.000000</td>\n",
       "      <td>0.000000</td>\n",
       "      <td>2.000000</td>\n",
       "      <td>1.000000</td>\n",
       "      <td>0.000000</td>\n",
       "      <td>117948.000000</td>\n",
       "      <td>0.000000</td>\n",
       "    </tr>\n",
       "    <tr>\n",
       "      <th>75%</th>\n",
       "      <td>123774.7500</td>\n",
       "      <td>1.575682e+07</td>\n",
       "      <td>710.000000</td>\n",
       "      <td>42.000000</td>\n",
       "      <td>7.000000</td>\n",
       "      <td>119939.517500</td>\n",
       "      <td>2.000000</td>\n",
       "      <td>1.000000</td>\n",
       "      <td>1.000000</td>\n",
       "      <td>155152.467500</td>\n",
       "      <td>0.000000</td>\n",
       "    </tr>\n",
       "    <tr>\n",
       "      <th>max</th>\n",
       "      <td>165033.0000</td>\n",
       "      <td>1.581569e+07</td>\n",
       "      <td>850.000000</td>\n",
       "      <td>92.000000</td>\n",
       "      <td>10.000000</td>\n",
       "      <td>250898.090000</td>\n",
       "      <td>4.000000</td>\n",
       "      <td>1.000000</td>\n",
       "      <td>1.000000</td>\n",
       "      <td>199992.480000</td>\n",
       "      <td>1.000000</td>\n",
       "    </tr>\n",
       "  </tbody>\n",
       "</table>\n",
       "</div>"
      ],
      "text/plain": [
       "                id    CustomerId    CreditScore            Age         Tenure  \\\n",
       "count  165034.0000  1.650340e+05  165034.000000  165034.000000  165034.000000   \n",
       "mean    82516.5000  1.569201e+07     656.454373      38.125888       5.020353   \n",
       "std     47641.3565  7.139782e+04      80.103340       8.867205       2.806159   \n",
       "min         0.0000  1.556570e+07     350.000000      18.000000       0.000000   \n",
       "25%     41258.2500  1.563314e+07     597.000000      32.000000       3.000000   \n",
       "50%     82516.5000  1.569017e+07     659.000000      37.000000       5.000000   \n",
       "75%    123774.7500  1.575682e+07     710.000000      42.000000       7.000000   \n",
       "max    165033.0000  1.581569e+07     850.000000      92.000000      10.000000   \n",
       "\n",
       "             Balance  NumOfProducts      HasCrCard  IsActiveMember  \\\n",
       "count  165034.000000  165034.000000  165034.000000   165034.000000   \n",
       "mean    55478.086689       1.554455       0.753954        0.497770   \n",
       "std     62817.663278       0.547154       0.430707        0.499997   \n",
       "min         0.000000       1.000000       0.000000        0.000000   \n",
       "25%         0.000000       1.000000       1.000000        0.000000   \n",
       "50%         0.000000       2.000000       1.000000        0.000000   \n",
       "75%    119939.517500       2.000000       1.000000        1.000000   \n",
       "max    250898.090000       4.000000       1.000000        1.000000   \n",
       "\n",
       "       EstimatedSalary         Exited  \n",
       "count    165034.000000  165034.000000  \n",
       "mean     112574.822734       0.211599  \n",
       "std       50292.865585       0.408443  \n",
       "min          11.580000       0.000000  \n",
       "25%       74637.570000       0.000000  \n",
       "50%      117948.000000       0.000000  \n",
       "75%      155152.467500       0.000000  \n",
       "max      199992.480000       1.000000  "
      ]
     },
     "execution_count": 4,
     "metadata": {},
     "output_type": "execute_result"
    }
   ],
   "source": [
    "train.describe()"
   ]
  },
  {
   "cell_type": "code",
   "execution_count": 5,
   "id": "a203e78c",
   "metadata": {
    "execution": {
     "iopub.execute_input": "2024-01-17T09:56:38.267309Z",
     "iopub.status.busy": "2024-01-17T09:56:38.266627Z",
     "iopub.status.idle": "2024-01-17T09:56:38.277028Z",
     "shell.execute_reply": "2024-01-17T09:56:38.275846Z"
    },
    "papermill": {
     "duration": 0.025643,
     "end_time": "2024-01-17T09:56:38.279765",
     "exception": false,
     "start_time": "2024-01-17T09:56:38.254122",
     "status": "completed"
    },
    "tags": []
   },
   "outputs": [
    {
     "data": {
      "text/plain": [
       "id                   int64\n",
       "CustomerId           int64\n",
       "Surname             object\n",
       "CreditScore          int64\n",
       "Geography           object\n",
       "Gender              object\n",
       "Age                float64\n",
       "Tenure               int64\n",
       "Balance            float64\n",
       "NumOfProducts        int64\n",
       "HasCrCard          float64\n",
       "IsActiveMember     float64\n",
       "EstimatedSalary    float64\n",
       "Exited               int64\n",
       "dtype: object"
      ]
     },
     "execution_count": 5,
     "metadata": {},
     "output_type": "execute_result"
    }
   ],
   "source": [
    "train.dtypes"
   ]
  },
  {
   "cell_type": "code",
   "execution_count": 6,
   "id": "c7969d23",
   "metadata": {
    "execution": {
     "iopub.execute_input": "2024-01-17T09:56:38.303883Z",
     "iopub.status.busy": "2024-01-17T09:56:38.303395Z",
     "iopub.status.idle": "2024-01-17T09:56:38.337025Z",
     "shell.execute_reply": "2024-01-17T09:56:38.335930Z"
    },
    "papermill": {
     "duration": 0.049823,
     "end_time": "2024-01-17T09:56:38.340054",
     "exception": false,
     "start_time": "2024-01-17T09:56:38.290231",
     "status": "completed"
    },
    "tags": []
   },
   "outputs": [
    {
     "data": {
      "text/plain": [
       "id                 0\n",
       "CustomerId         0\n",
       "Surname            0\n",
       "CreditScore        0\n",
       "Geography          0\n",
       "Gender             0\n",
       "Age                0\n",
       "Tenure             0\n",
       "Balance            0\n",
       "NumOfProducts      0\n",
       "HasCrCard          0\n",
       "IsActiveMember     0\n",
       "EstimatedSalary    0\n",
       "Exited             0\n",
       "dtype: int64"
      ]
     },
     "execution_count": 6,
     "metadata": {},
     "output_type": "execute_result"
    }
   ],
   "source": [
    "train.isnull().sum()"
   ]
  },
  {
   "cell_type": "code",
   "execution_count": 7,
   "id": "924c7a9a",
   "metadata": {
    "execution": {
     "iopub.execute_input": "2024-01-17T09:56:38.364300Z",
     "iopub.status.busy": "2024-01-17T09:56:38.363913Z",
     "iopub.status.idle": "2024-01-17T09:56:38.399089Z",
     "shell.execute_reply": "2024-01-17T09:56:38.397758Z"
    },
    "papermill": {
     "duration": 0.051479,
     "end_time": "2024-01-17T09:56:38.402442",
     "exception": false,
     "start_time": "2024-01-17T09:56:38.350963",
     "status": "completed"
    },
    "tags": []
   },
   "outputs": [
    {
     "data": {
      "text/html": [
       "<div>\n",
       "<style scoped>\n",
       "    .dataframe tbody tr th:only-of-type {\n",
       "        vertical-align: middle;\n",
       "    }\n",
       "\n",
       "    .dataframe tbody tr th {\n",
       "        vertical-align: top;\n",
       "    }\n",
       "\n",
       "    .dataframe thead th {\n",
       "        text-align: right;\n",
       "    }\n",
       "</style>\n",
       "<table border=\"1\" class=\"dataframe\">\n",
       "  <thead>\n",
       "    <tr style=\"text-align: right;\">\n",
       "      <th></th>\n",
       "      <th>id</th>\n",
       "      <th>CustomerId</th>\n",
       "      <th>Surname</th>\n",
       "      <th>CreditScore</th>\n",
       "      <th>Geography</th>\n",
       "      <th>Gender</th>\n",
       "      <th>Age</th>\n",
       "      <th>Tenure</th>\n",
       "      <th>Balance</th>\n",
       "      <th>NumOfProducts</th>\n",
       "      <th>HasCrCard</th>\n",
       "      <th>IsActiveMember</th>\n",
       "      <th>EstimatedSalary</th>\n",
       "    </tr>\n",
       "  </thead>\n",
       "  <tbody>\n",
       "    <tr>\n",
       "      <th>0</th>\n",
       "      <td>165034</td>\n",
       "      <td>15773898</td>\n",
       "      <td>Lucchese</td>\n",
       "      <td>586</td>\n",
       "      <td>France</td>\n",
       "      <td>Female</td>\n",
       "      <td>23.0</td>\n",
       "      <td>2</td>\n",
       "      <td>0.00</td>\n",
       "      <td>2</td>\n",
       "      <td>0.0</td>\n",
       "      <td>1.0</td>\n",
       "      <td>160976.75</td>\n",
       "    </tr>\n",
       "    <tr>\n",
       "      <th>1</th>\n",
       "      <td>165035</td>\n",
       "      <td>15782418</td>\n",
       "      <td>Nott</td>\n",
       "      <td>683</td>\n",
       "      <td>France</td>\n",
       "      <td>Female</td>\n",
       "      <td>46.0</td>\n",
       "      <td>2</td>\n",
       "      <td>0.00</td>\n",
       "      <td>1</td>\n",
       "      <td>1.0</td>\n",
       "      <td>0.0</td>\n",
       "      <td>72549.27</td>\n",
       "    </tr>\n",
       "    <tr>\n",
       "      <th>2</th>\n",
       "      <td>165036</td>\n",
       "      <td>15807120</td>\n",
       "      <td>K?</td>\n",
       "      <td>656</td>\n",
       "      <td>France</td>\n",
       "      <td>Female</td>\n",
       "      <td>34.0</td>\n",
       "      <td>7</td>\n",
       "      <td>0.00</td>\n",
       "      <td>2</td>\n",
       "      <td>1.0</td>\n",
       "      <td>0.0</td>\n",
       "      <td>138882.09</td>\n",
       "    </tr>\n",
       "    <tr>\n",
       "      <th>3</th>\n",
       "      <td>165037</td>\n",
       "      <td>15808905</td>\n",
       "      <td>O'Donnell</td>\n",
       "      <td>681</td>\n",
       "      <td>France</td>\n",
       "      <td>Male</td>\n",
       "      <td>36.0</td>\n",
       "      <td>8</td>\n",
       "      <td>0.00</td>\n",
       "      <td>1</td>\n",
       "      <td>1.0</td>\n",
       "      <td>0.0</td>\n",
       "      <td>113931.57</td>\n",
       "    </tr>\n",
       "    <tr>\n",
       "      <th>4</th>\n",
       "      <td>165038</td>\n",
       "      <td>15607314</td>\n",
       "      <td>Higgins</td>\n",
       "      <td>752</td>\n",
       "      <td>Germany</td>\n",
       "      <td>Male</td>\n",
       "      <td>38.0</td>\n",
       "      <td>10</td>\n",
       "      <td>121263.62</td>\n",
       "      <td>1</td>\n",
       "      <td>1.0</td>\n",
       "      <td>0.0</td>\n",
       "      <td>139431.00</td>\n",
       "    </tr>\n",
       "    <tr>\n",
       "      <th>...</th>\n",
       "      <td>...</td>\n",
       "      <td>...</td>\n",
       "      <td>...</td>\n",
       "      <td>...</td>\n",
       "      <td>...</td>\n",
       "      <td>...</td>\n",
       "      <td>...</td>\n",
       "      <td>...</td>\n",
       "      <td>...</td>\n",
       "      <td>...</td>\n",
       "      <td>...</td>\n",
       "      <td>...</td>\n",
       "      <td>...</td>\n",
       "    </tr>\n",
       "    <tr>\n",
       "      <th>110018</th>\n",
       "      <td>275052</td>\n",
       "      <td>15662091</td>\n",
       "      <td>P'eng</td>\n",
       "      <td>570</td>\n",
       "      <td>Spain</td>\n",
       "      <td>Male</td>\n",
       "      <td>29.0</td>\n",
       "      <td>7</td>\n",
       "      <td>116099.82</td>\n",
       "      <td>1</td>\n",
       "      <td>1.0</td>\n",
       "      <td>1.0</td>\n",
       "      <td>148087.62</td>\n",
       "    </tr>\n",
       "    <tr>\n",
       "      <th>110019</th>\n",
       "      <td>275053</td>\n",
       "      <td>15774133</td>\n",
       "      <td>Cox</td>\n",
       "      <td>575</td>\n",
       "      <td>France</td>\n",
       "      <td>Female</td>\n",
       "      <td>36.0</td>\n",
       "      <td>4</td>\n",
       "      <td>178032.53</td>\n",
       "      <td>1</td>\n",
       "      <td>1.0</td>\n",
       "      <td>1.0</td>\n",
       "      <td>42181.68</td>\n",
       "    </tr>\n",
       "    <tr>\n",
       "      <th>110020</th>\n",
       "      <td>275054</td>\n",
       "      <td>15728456</td>\n",
       "      <td>Ch'iu</td>\n",
       "      <td>712</td>\n",
       "      <td>France</td>\n",
       "      <td>Male</td>\n",
       "      <td>31.0</td>\n",
       "      <td>2</td>\n",
       "      <td>0.00</td>\n",
       "      <td>2</td>\n",
       "      <td>1.0</td>\n",
       "      <td>0.0</td>\n",
       "      <td>16287.38</td>\n",
       "    </tr>\n",
       "    <tr>\n",
       "      <th>110021</th>\n",
       "      <td>275055</td>\n",
       "      <td>15687541</td>\n",
       "      <td>Yegorova</td>\n",
       "      <td>709</td>\n",
       "      <td>France</td>\n",
       "      <td>Female</td>\n",
       "      <td>32.0</td>\n",
       "      <td>3</td>\n",
       "      <td>0.00</td>\n",
       "      <td>1</td>\n",
       "      <td>1.0</td>\n",
       "      <td>1.0</td>\n",
       "      <td>158816.58</td>\n",
       "    </tr>\n",
       "    <tr>\n",
       "      <th>110022</th>\n",
       "      <td>275056</td>\n",
       "      <td>15663942</td>\n",
       "      <td>Tuan</td>\n",
       "      <td>621</td>\n",
       "      <td>France</td>\n",
       "      <td>Female</td>\n",
       "      <td>37.0</td>\n",
       "      <td>7</td>\n",
       "      <td>87848.39</td>\n",
       "      <td>1</td>\n",
       "      <td>1.0</td>\n",
       "      <td>0.0</td>\n",
       "      <td>24210.56</td>\n",
       "    </tr>\n",
       "  </tbody>\n",
       "</table>\n",
       "<p>110023 rows × 13 columns</p>\n",
       "</div>"
      ],
      "text/plain": [
       "            id  CustomerId    Surname  CreditScore Geography  Gender   Age  \\\n",
       "0       165034    15773898   Lucchese          586    France  Female  23.0   \n",
       "1       165035    15782418       Nott          683    France  Female  46.0   \n",
       "2       165036    15807120         K?          656    France  Female  34.0   \n",
       "3       165037    15808905  O'Donnell          681    France    Male  36.0   \n",
       "4       165038    15607314    Higgins          752   Germany    Male  38.0   \n",
       "...        ...         ...        ...          ...       ...     ...   ...   \n",
       "110018  275052    15662091      P'eng          570     Spain    Male  29.0   \n",
       "110019  275053    15774133        Cox          575    France  Female  36.0   \n",
       "110020  275054    15728456      Ch'iu          712    France    Male  31.0   \n",
       "110021  275055    15687541   Yegorova          709    France  Female  32.0   \n",
       "110022  275056    15663942       Tuan          621    France  Female  37.0   \n",
       "\n",
       "        Tenure    Balance  NumOfProducts  HasCrCard  IsActiveMember  \\\n",
       "0            2       0.00              2        0.0             1.0   \n",
       "1            2       0.00              1        1.0             0.0   \n",
       "2            7       0.00              2        1.0             0.0   \n",
       "3            8       0.00              1        1.0             0.0   \n",
       "4           10  121263.62              1        1.0             0.0   \n",
       "...        ...        ...            ...        ...             ...   \n",
       "110018       7  116099.82              1        1.0             1.0   \n",
       "110019       4  178032.53              1        1.0             1.0   \n",
       "110020       2       0.00              2        1.0             0.0   \n",
       "110021       3       0.00              1        1.0             1.0   \n",
       "110022       7   87848.39              1        1.0             0.0   \n",
       "\n",
       "        EstimatedSalary  \n",
       "0             160976.75  \n",
       "1              72549.27  \n",
       "2             138882.09  \n",
       "3             113931.57  \n",
       "4             139431.00  \n",
       "...                 ...  \n",
       "110018        148087.62  \n",
       "110019         42181.68  \n",
       "110020         16287.38  \n",
       "110021        158816.58  \n",
       "110022         24210.56  \n",
       "\n",
       "[110023 rows x 13 columns]"
      ]
     },
     "execution_count": 7,
     "metadata": {},
     "output_type": "execute_result"
    }
   ],
   "source": [
    "test"
   ]
  },
  {
   "cell_type": "markdown",
   "id": "35ae1d27",
   "metadata": {
    "papermill": {
     "duration": 0.011046,
     "end_time": "2024-01-17T09:56:38.424565",
     "exception": false,
     "start_time": "2024-01-17T09:56:38.413519",
     "status": "completed"
    },
    "tags": []
   },
   "source": [
    "\n",
    "## Pre-processing  <a class=\"anchor\"  id=\"chapter3\"></a>"
   ]
  },
  {
   "cell_type": "code",
   "execution_count": 8,
   "id": "01a44f1b",
   "metadata": {
    "execution": {
     "iopub.execute_input": "2024-01-17T09:56:38.450184Z",
     "iopub.status.busy": "2024-01-17T09:56:38.448666Z",
     "iopub.status.idle": "2024-01-17T09:56:38.470437Z",
     "shell.execute_reply": "2024-01-17T09:56:38.468590Z"
    },
    "papermill": {
     "duration": 0.037881,
     "end_time": "2024-01-17T09:56:38.473359",
     "exception": false,
     "start_time": "2024-01-17T09:56:38.435478",
     "status": "completed"
    },
    "tags": []
   },
   "outputs": [],
   "source": [
    "#removing irrelevant columns\n",
    "#these columns just for indexing not useful for training\n",
    "df=train.drop(['id','CustomerId','Surname'],axis=1)\n",
    "df_test=test.drop(['id','CustomerId','Surname'],axis=1)"
   ]
  },
  {
   "cell_type": "code",
   "execution_count": 9,
   "id": "5a39e763",
   "metadata": {
    "execution": {
     "iopub.execute_input": "2024-01-17T09:56:38.499871Z",
     "iopub.status.busy": "2024-01-17T09:56:38.499478Z",
     "iopub.status.idle": "2024-01-17T09:56:38.814808Z",
     "shell.execute_reply": "2024-01-17T09:56:38.813723Z"
    },
    "papermill": {
     "duration": 0.331534,
     "end_time": "2024-01-17T09:56:38.817318",
     "exception": false,
     "start_time": "2024-01-17T09:56:38.485784",
     "status": "completed"
    },
    "tags": []
   },
   "outputs": [
    {
     "data": {
      "text/plain": [
       "(array([130113.,      0.,      0.,      0.,      0.,      0.,      0.,\n",
       "             0.,      0.,  34921.]),\n",
       " array([0. , 0.1, 0.2, 0.3, 0.4, 0.5, 0.6, 0.7, 0.8, 0.9, 1. ]),\n",
       " <BarContainer object of 10 artists>)"
      ]
     },
     "execution_count": 9,
     "metadata": {},
     "output_type": "execute_result"
    },
    {
     "data": {
      "image/png": "[encoded data removed]",
      "text/plain": [
       "<Figure size 640x480 with 1 Axes>"
      ]
     },
     "metadata": {},
     "output_type": "display_data"
    }
   ],
   "source": [
    "import matplotlib.pyplot as plt\n",
    "%matplotlib inline\n",
    "plt.hist(x='Exited',data=df)"
   ]
  },
  {
   "cell_type": "code",
   "execution_count": 10,
   "id": "318c3a9e",
   "metadata": {
    "execution": {
     "iopub.execute_input": "2024-01-17T09:56:38.908924Z",
     "iopub.status.busy": "2024-01-17T09:56:38.908475Z",
     "iopub.status.idle": "2024-01-17T09:56:42.309286Z",
     "shell.execute_reply": "2024-01-17T09:56:42.307340Z"
    },
    "papermill": {
     "duration": 3.417308,
     "end_time": "2024-01-17T09:56:42.312509",
     "exception": false,
     "start_time": "2024-01-17T09:56:38.895201",
     "status": "completed"
    },
    "tags": []
   },
   "outputs": [
    {
     "data": {
      "text/plain": [
       "array([[<Axes: title={'center': 'CreditScore'}>,\n",
       "        <Axes: title={'center': 'Age'}>,\n",
       "        <Axes: title={'center': 'Tenure'}>],\n",
       "       [<Axes: title={'center': 'Balance'}>,\n",
       "        <Axes: title={'center': 'NumOfProducts'}>,\n",
       "        <Axes: title={'center': 'HasCrCard'}>],\n",
       "       [<Axes: title={'center': 'IsActiveMember'}>,\n",
       "        <Axes: title={'center': 'EstimatedSalary'}>,\n",
       "        <Axes: title={'center': 'Exited'}>]], dtype=object)"
      ]
     },
     "execution_count": 10,
     "metadata": {},
     "output_type": "execute_result"
    },
    {
     "data": {
      "image/png": "[encoded data removed]",
      "text/plain": [
       "<Figure size 2000x1500 with 9 Axes>"
      ]
     },
     "metadata": {},
     "output_type": "display_data"
    }
   ],
   "source": [
    "df.hist(bins=50,figsize=[20,15])"
   ]
  },
  {
   "cell_type": "code",
   "execution_count": 11,
   "id": "72e12877",
   "metadata": {
    "execution": {
     "iopub.execute_input": "2024-01-17T09:56:42.344232Z",
     "iopub.status.busy": "2024-01-17T09:56:42.343792Z",
     "iopub.status.idle": "2024-01-17T09:56:44.618571Z",
     "shell.execute_reply": "2024-01-17T09:56:44.617389Z"
    },
    "papermill": {
     "duration": 2.2946,
     "end_time": "2024-01-17T09:56:44.621604",
     "exception": false,
     "start_time": "2024-01-17T09:56:42.327004",
     "status": "completed"
    },
    "tags": []
   },
   "outputs": [],
   "source": [
    "#changing imbalanced to balanced dataset\n",
    "from imblearn.over_sampling import RandomOverSampler\n",
    "x=df.drop('Exited',axis=1)\n",
    "y=df['Exited']\n",
    "\n",
    "ros=RandomOverSampler(random_state=42)\n",
    "\n",
    "x_resampled,y_resampled=ros.fit_resample(x,y)\n",
    "# resampled_df=pd.concat()\n",
    "resampled_df=pd.concat([pd.DataFrame(x_resampled),pd.Series(y_resampled,name='Exited')],axis=1)"
   ]
  },
  {
   "cell_type": "code",
   "execution_count": 12,
   "id": "f33f2764",
   "metadata": {
    "execution": {
     "iopub.execute_input": "2024-01-17T09:56:44.651977Z",
     "iopub.status.busy": "2024-01-17T09:56:44.651198Z",
     "iopub.status.idle": "2024-01-17T09:56:44.666752Z",
     "shell.execute_reply": "2024-01-17T09:56:44.665947Z"
    },
    "papermill": {
     "duration": 0.033527,
     "end_time": "2024-01-17T09:56:44.668900",
     "exception": false,
     "start_time": "2024-01-17T09:56:44.635373",
     "status": "completed"
    },
    "tags": []
   },
   "outputs": [
    {
     "data": {
      "text/html": [
       "<div>\n",
       "<style scoped>\n",
       "    .dataframe tbody tr th:only-of-type {\n",
       "        vertical-align: middle;\n",
       "    }\n",
       "\n",
       "    .dataframe tbody tr th {\n",
       "        vertical-align: top;\n",
       "    }\n",
       "\n",
       "    .dataframe thead th {\n",
       "        text-align: right;\n",
       "    }\n",
       "</style>\n",
       "<table border=\"1\" class=\"dataframe\">\n",
       "  <thead>\n",
       "    <tr style=\"text-align: right;\">\n",
       "      <th></th>\n",
       "      <th>CreditScore</th>\n",
       "      <th>Geography</th>\n",
       "      <th>Gender</th>\n",
       "      <th>Age</th>\n",
       "      <th>Tenure</th>\n",
       "      <th>Balance</th>\n",
       "      <th>NumOfProducts</th>\n",
       "      <th>HasCrCard</th>\n",
       "      <th>IsActiveMember</th>\n",
       "      <th>EstimatedSalary</th>\n",
       "      <th>Exited</th>\n",
       "    </tr>\n",
       "  </thead>\n",
       "  <tbody>\n",
       "    <tr>\n",
       "      <th>0</th>\n",
       "      <td>668</td>\n",
       "      <td>France</td>\n",
       "      <td>Male</td>\n",
       "      <td>33.0</td>\n",
       "      <td>3</td>\n",
       "      <td>0.00</td>\n",
       "      <td>2</td>\n",
       "      <td>1.0</td>\n",
       "      <td>0.0</td>\n",
       "      <td>181449.97</td>\n",
       "      <td>0</td>\n",
       "    </tr>\n",
       "    <tr>\n",
       "      <th>1</th>\n",
       "      <td>627</td>\n",
       "      <td>France</td>\n",
       "      <td>Male</td>\n",
       "      <td>33.0</td>\n",
       "      <td>1</td>\n",
       "      <td>0.00</td>\n",
       "      <td>2</td>\n",
       "      <td>1.0</td>\n",
       "      <td>1.0</td>\n",
       "      <td>49503.50</td>\n",
       "      <td>0</td>\n",
       "    </tr>\n",
       "    <tr>\n",
       "      <th>2</th>\n",
       "      <td>678</td>\n",
       "      <td>France</td>\n",
       "      <td>Male</td>\n",
       "      <td>40.0</td>\n",
       "      <td>10</td>\n",
       "      <td>0.00</td>\n",
       "      <td>2</td>\n",
       "      <td>1.0</td>\n",
       "      <td>0.0</td>\n",
       "      <td>184866.69</td>\n",
       "      <td>0</td>\n",
       "    </tr>\n",
       "    <tr>\n",
       "      <th>3</th>\n",
       "      <td>581</td>\n",
       "      <td>France</td>\n",
       "      <td>Male</td>\n",
       "      <td>34.0</td>\n",
       "      <td>2</td>\n",
       "      <td>148882.54</td>\n",
       "      <td>1</td>\n",
       "      <td>1.0</td>\n",
       "      <td>1.0</td>\n",
       "      <td>84560.88</td>\n",
       "      <td>0</td>\n",
       "    </tr>\n",
       "    <tr>\n",
       "      <th>4</th>\n",
       "      <td>716</td>\n",
       "      <td>Spain</td>\n",
       "      <td>Male</td>\n",
       "      <td>33.0</td>\n",
       "      <td>5</td>\n",
       "      <td>0.00</td>\n",
       "      <td>2</td>\n",
       "      <td>1.0</td>\n",
       "      <td>1.0</td>\n",
       "      <td>15068.83</td>\n",
       "      <td>0</td>\n",
       "    </tr>\n",
       "  </tbody>\n",
       "</table>\n",
       "</div>"
      ],
      "text/plain": [
       "   CreditScore Geography Gender   Age  Tenure    Balance  NumOfProducts  \\\n",
       "0          668    France   Male  33.0       3       0.00              2   \n",
       "1          627    France   Male  33.0       1       0.00              2   \n",
       "2          678    France   Male  40.0      10       0.00              2   \n",
       "3          581    France   Male  34.0       2  148882.54              1   \n",
       "4          716     Spain   Male  33.0       5       0.00              2   \n",
       "\n",
       "   HasCrCard  IsActiveMember  EstimatedSalary  Exited  \n",
       "0        1.0             0.0        181449.97       0  \n",
       "1        1.0             1.0         49503.50       0  \n",
       "2        1.0             0.0        184866.69       0  \n",
       "3        1.0             1.0         84560.88       0  \n",
       "4        1.0             1.0         15068.83       0  "
      ]
     },
     "execution_count": 12,
     "metadata": {},
     "output_type": "execute_result"
    }
   ],
   "source": [
    "resampled_df.head()"
   ]
  },
  {
   "cell_type": "code",
   "execution_count": 13,
   "id": "904f3de7",
   "metadata": {
    "execution": {
     "iopub.execute_input": "2024-01-17T09:56:44.700235Z",
     "iopub.status.busy": "2024-01-17T09:56:44.699428Z",
     "iopub.status.idle": "2024-01-17T09:56:45.101690Z",
     "shell.execute_reply": "2024-01-17T09:56:45.100414Z"
    },
    "papermill": {
     "duration": 0.421508,
     "end_time": "2024-01-17T09:56:45.105096",
     "exception": false,
     "start_time": "2024-01-17T09:56:44.683588",
     "status": "completed"
    },
    "tags": []
   },
   "outputs": [
    {
     "data": {
      "text/plain": [
       "(array([130113.,      0.,      0.,      0.,      0.,      0.,      0.,\n",
       "             0.,      0., 130113.]),\n",
       " array([0. , 0.1, 0.2, 0.3, 0.4, 0.5, 0.6, 0.7, 0.8, 0.9, 1. ]),\n",
       " <BarContainer object of 10 artists>)"
      ]
     },
     "execution_count": 13,
     "metadata": {},
     "output_type": "execute_result"
    },
    {
     "data": {
      "image/png": "[encoded data removed]",
      "text/plain": [
       "<Figure size 640x480 with 1 Axes>"
      ]
     },
     "metadata": {},
     "output_type": "display_data"
    }
   ],
   "source": [
    "plt.hist(x='Exited',data=resampled_df)"
   ]
  },
  {
   "cell_type": "code",
   "execution_count": 14,
   "id": "3608dacb",
   "metadata": {
    "execution": {
     "iopub.execute_input": "2024-01-17T09:56:45.137759Z",
     "iopub.status.busy": "2024-01-17T09:56:45.137254Z",
     "iopub.status.idle": "2024-01-17T09:56:45.156952Z",
     "shell.execute_reply": "2024-01-17T09:56:45.155340Z"
    },
    "papermill": {
     "duration": 0.038788,
     "end_time": "2024-01-17T09:56:45.159618",
     "exception": false,
     "start_time": "2024-01-17T09:56:45.120830",
     "status": "completed"
    },
    "tags": []
   },
   "outputs": [
    {
     "data": {
      "text/html": [
       "<div>\n",
       "<style scoped>\n",
       "    .dataframe tbody tr th:only-of-type {\n",
       "        vertical-align: middle;\n",
       "    }\n",
       "\n",
       "    .dataframe tbody tr th {\n",
       "        vertical-align: top;\n",
       "    }\n",
       "\n",
       "    .dataframe thead th {\n",
       "        text-align: right;\n",
       "    }\n",
       "</style>\n",
       "<table border=\"1\" class=\"dataframe\">\n",
       "  <thead>\n",
       "    <tr style=\"text-align: right;\">\n",
       "      <th></th>\n",
       "      <th>CreditScore</th>\n",
       "      <th>Geography</th>\n",
       "      <th>Gender</th>\n",
       "      <th>Age</th>\n",
       "      <th>Tenure</th>\n",
       "      <th>Balance</th>\n",
       "      <th>NumOfProducts</th>\n",
       "      <th>HasCrCard</th>\n",
       "      <th>IsActiveMember</th>\n",
       "      <th>EstimatedSalary</th>\n",
       "      <th>Exited</th>\n",
       "    </tr>\n",
       "  </thead>\n",
       "  <tbody>\n",
       "    <tr>\n",
       "      <th>0</th>\n",
       "      <td>668</td>\n",
       "      <td>France</td>\n",
       "      <td>Male</td>\n",
       "      <td>33.0</td>\n",
       "      <td>3</td>\n",
       "      <td>0.00</td>\n",
       "      <td>2</td>\n",
       "      <td>1.0</td>\n",
       "      <td>0.0</td>\n",
       "      <td>181449.97</td>\n",
       "      <td>0</td>\n",
       "    </tr>\n",
       "    <tr>\n",
       "      <th>1</th>\n",
       "      <td>627</td>\n",
       "      <td>France</td>\n",
       "      <td>Male</td>\n",
       "      <td>33.0</td>\n",
       "      <td>1</td>\n",
       "      <td>0.00</td>\n",
       "      <td>2</td>\n",
       "      <td>1.0</td>\n",
       "      <td>1.0</td>\n",
       "      <td>49503.50</td>\n",
       "      <td>0</td>\n",
       "    </tr>\n",
       "    <tr>\n",
       "      <th>2</th>\n",
       "      <td>678</td>\n",
       "      <td>France</td>\n",
       "      <td>Male</td>\n",
       "      <td>40.0</td>\n",
       "      <td>10</td>\n",
       "      <td>0.00</td>\n",
       "      <td>2</td>\n",
       "      <td>1.0</td>\n",
       "      <td>0.0</td>\n",
       "      <td>184866.69</td>\n",
       "      <td>0</td>\n",
       "    </tr>\n",
       "    <tr>\n",
       "      <th>3</th>\n",
       "      <td>581</td>\n",
       "      <td>France</td>\n",
       "      <td>Male</td>\n",
       "      <td>34.0</td>\n",
       "      <td>2</td>\n",
       "      <td>148882.54</td>\n",
       "      <td>1</td>\n",
       "      <td>1.0</td>\n",
       "      <td>1.0</td>\n",
       "      <td>84560.88</td>\n",
       "      <td>0</td>\n",
       "    </tr>\n",
       "    <tr>\n",
       "      <th>4</th>\n",
       "      <td>716</td>\n",
       "      <td>Spain</td>\n",
       "      <td>Male</td>\n",
       "      <td>33.0</td>\n",
       "      <td>5</td>\n",
       "      <td>0.00</td>\n",
       "      <td>2</td>\n",
       "      <td>1.0</td>\n",
       "      <td>1.0</td>\n",
       "      <td>15068.83</td>\n",
       "      <td>0</td>\n",
       "    </tr>\n",
       "  </tbody>\n",
       "</table>\n",
       "</div>"
      ],
      "text/plain": [
       "   CreditScore Geography Gender   Age  Tenure    Balance  NumOfProducts  \\\n",
       "0          668    France   Male  33.0       3       0.00              2   \n",
       "1          627    France   Male  33.0       1       0.00              2   \n",
       "2          678    France   Male  40.0      10       0.00              2   \n",
       "3          581    France   Male  34.0       2  148882.54              1   \n",
       "4          716     Spain   Male  33.0       5       0.00              2   \n",
       "\n",
       "   HasCrCard  IsActiveMember  EstimatedSalary  Exited  \n",
       "0        1.0             0.0        181449.97       0  \n",
       "1        1.0             1.0         49503.50       0  \n",
       "2        1.0             0.0        184866.69       0  \n",
       "3        1.0             1.0         84560.88       0  \n",
       "4        1.0             1.0         15068.83       0  "
      ]
     },
     "execution_count": 14,
     "metadata": {},
     "output_type": "execute_result"
    }
   ],
   "source": [
    "df.head()"
   ]
  },
  {
   "cell_type": "code",
   "execution_count": 15,
   "id": "910d6cfb",
   "metadata": {
    "execution": {
     "iopub.execute_input": "2024-01-17T09:56:45.191661Z",
     "iopub.status.busy": "2024-01-17T09:56:45.191206Z",
     "iopub.status.idle": "2024-01-17T09:56:45.360551Z",
     "shell.execute_reply": "2024-01-17T09:56:45.358999Z"
    },
    "papermill": {
     "duration": 0.188343,
     "end_time": "2024-01-17T09:56:45.363521",
     "exception": false,
     "start_time": "2024-01-17T09:56:45.175178",
     "status": "completed"
    },
    "tags": []
   },
   "outputs": [],
   "source": [
    "#sklearn\n",
    "from sklearn.preprocessing import LabelEncoder\n",
    "labEn=LabelEncoder()\n",
    "resampled_df['Geography'] = labEn.fit_transform(resampled_df['Geography'])\n",
    "resampled_df['Gender'] = labEn.fit_transform(resampled_df['Gender'])\n",
    "\n",
    "df_test['Geography'] = labEn.fit_transform(df_test['Geography'])\n",
    "df_test['Gender'] = labEn.fit_transform(df_test['Gender'])"
   ]
  },
  {
   "cell_type": "code",
   "execution_count": 16,
   "id": "baf11a6b",
   "metadata": {
    "execution": {
     "iopub.execute_input": "2024-01-17T09:56:45.394675Z",
     "iopub.status.busy": "2024-01-17T09:56:45.394191Z",
     "iopub.status.idle": "2024-01-17T09:56:45.411703Z",
     "shell.execute_reply": "2024-01-17T09:56:45.410606Z"
    },
    "papermill": {
     "duration": 0.035874,
     "end_time": "2024-01-17T09:56:45.414228",
     "exception": false,
     "start_time": "2024-01-17T09:56:45.378354",
     "status": "completed"
    },
    "tags": []
   },
   "outputs": [
    {
     "data": {
      "text/html": [
       "<div>\n",
       "<style scoped>\n",
       "    .dataframe tbody tr th:only-of-type {\n",
       "        vertical-align: middle;\n",
       "    }\n",
       "\n",
       "    .dataframe tbody tr th {\n",
       "        vertical-align: top;\n",
       "    }\n",
       "\n",
       "    .dataframe thead th {\n",
       "        text-align: right;\n",
       "    }\n",
       "</style>\n",
       "<table border=\"1\" class=\"dataframe\">\n",
       "  <thead>\n",
       "    <tr style=\"text-align: right;\">\n",
       "      <th></th>\n",
       "      <th>CreditScore</th>\n",
       "      <th>Geography</th>\n",
       "      <th>Gender</th>\n",
       "      <th>Age</th>\n",
       "      <th>Tenure</th>\n",
       "      <th>Balance</th>\n",
       "      <th>NumOfProducts</th>\n",
       "      <th>HasCrCard</th>\n",
       "      <th>IsActiveMember</th>\n",
       "      <th>EstimatedSalary</th>\n",
       "      <th>Exited</th>\n",
       "    </tr>\n",
       "  </thead>\n",
       "  <tbody>\n",
       "    <tr>\n",
       "      <th>0</th>\n",
       "      <td>668</td>\n",
       "      <td>0</td>\n",
       "      <td>1</td>\n",
       "      <td>33.0</td>\n",
       "      <td>3</td>\n",
       "      <td>0.00</td>\n",
       "      <td>2</td>\n",
       "      <td>1.0</td>\n",
       "      <td>0.0</td>\n",
       "      <td>181449.97</td>\n",
       "      <td>0</td>\n",
       "    </tr>\n",
       "    <tr>\n",
       "      <th>1</th>\n",
       "      <td>627</td>\n",
       "      <td>0</td>\n",
       "      <td>1</td>\n",
       "      <td>33.0</td>\n",
       "      <td>1</td>\n",
       "      <td>0.00</td>\n",
       "      <td>2</td>\n",
       "      <td>1.0</td>\n",
       "      <td>1.0</td>\n",
       "      <td>49503.50</td>\n",
       "      <td>0</td>\n",
       "    </tr>\n",
       "    <tr>\n",
       "      <th>2</th>\n",
       "      <td>678</td>\n",
       "      <td>0</td>\n",
       "      <td>1</td>\n",
       "      <td>40.0</td>\n",
       "      <td>10</td>\n",
       "      <td>0.00</td>\n",
       "      <td>2</td>\n",
       "      <td>1.0</td>\n",
       "      <td>0.0</td>\n",
       "      <td>184866.69</td>\n",
       "      <td>0</td>\n",
       "    </tr>\n",
       "    <tr>\n",
       "      <th>3</th>\n",
       "      <td>581</td>\n",
       "      <td>0</td>\n",
       "      <td>1</td>\n",
       "      <td>34.0</td>\n",
       "      <td>2</td>\n",
       "      <td>148882.54</td>\n",
       "      <td>1</td>\n",
       "      <td>1.0</td>\n",
       "      <td>1.0</td>\n",
       "      <td>84560.88</td>\n",
       "      <td>0</td>\n",
       "    </tr>\n",
       "    <tr>\n",
       "      <th>4</th>\n",
       "      <td>716</td>\n",
       "      <td>2</td>\n",
       "      <td>1</td>\n",
       "      <td>33.0</td>\n",
       "      <td>5</td>\n",
       "      <td>0.00</td>\n",
       "      <td>2</td>\n",
       "      <td>1.0</td>\n",
       "      <td>1.0</td>\n",
       "      <td>15068.83</td>\n",
       "      <td>0</td>\n",
       "    </tr>\n",
       "  </tbody>\n",
       "</table>\n",
       "</div>"
      ],
      "text/plain": [
       "   CreditScore  Geography  Gender   Age  Tenure    Balance  NumOfProducts  \\\n",
       "0          668          0       1  33.0       3       0.00              2   \n",
       "1          627          0       1  33.0       1       0.00              2   \n",
       "2          678          0       1  40.0      10       0.00              2   \n",
       "3          581          0       1  34.0       2  148882.54              1   \n",
       "4          716          2       1  33.0       5       0.00              2   \n",
       "\n",
       "   HasCrCard  IsActiveMember  EstimatedSalary  Exited  \n",
       "0        1.0             0.0        181449.97       0  \n",
       "1        1.0             1.0         49503.50       0  \n",
       "2        1.0             0.0        184866.69       0  \n",
       "3        1.0             1.0         84560.88       0  \n",
       "4        1.0             1.0         15068.83       0  "
      ]
     },
     "execution_count": 16,
     "metadata": {},
     "output_type": "execute_result"
    }
   ],
   "source": [
    "resampled_df.head()"
   ]
  },
  {
   "cell_type": "code",
   "execution_count": 17,
   "id": "04affb4e",
   "metadata": {
    "execution": {
     "iopub.execute_input": "2024-01-17T09:56:45.445329Z",
     "iopub.status.busy": "2024-01-17T09:56:45.444954Z",
     "iopub.status.idle": "2024-01-17T09:56:45.461944Z",
     "shell.execute_reply": "2024-01-17T09:56:45.460624Z"
    },
    "papermill": {
     "duration": 0.035406,
     "end_time": "2024-01-17T09:56:45.464464",
     "exception": false,
     "start_time": "2024-01-17T09:56:45.429058",
     "status": "completed"
    },
    "tags": []
   },
   "outputs": [
    {
     "data": {
      "text/html": [
       "<div>\n",
       "<style scoped>\n",
       "    .dataframe tbody tr th:only-of-type {\n",
       "        vertical-align: middle;\n",
       "    }\n",
       "\n",
       "    .dataframe tbody tr th {\n",
       "        vertical-align: top;\n",
       "    }\n",
       "\n",
       "    .dataframe thead th {\n",
       "        text-align: right;\n",
       "    }\n",
       "</style>\n",
       "<table border=\"1\" class=\"dataframe\">\n",
       "  <thead>\n",
       "    <tr style=\"text-align: right;\">\n",
       "      <th></th>\n",
       "      <th>CreditScore</th>\n",
       "      <th>Geography</th>\n",
       "      <th>Gender</th>\n",
       "      <th>Age</th>\n",
       "      <th>Tenure</th>\n",
       "      <th>Balance</th>\n",
       "      <th>NumOfProducts</th>\n",
       "      <th>HasCrCard</th>\n",
       "      <th>IsActiveMember</th>\n",
       "      <th>EstimatedSalary</th>\n",
       "    </tr>\n",
       "  </thead>\n",
       "  <tbody>\n",
       "    <tr>\n",
       "      <th>0</th>\n",
       "      <td>586</td>\n",
       "      <td>0</td>\n",
       "      <td>0</td>\n",
       "      <td>23.0</td>\n",
       "      <td>2</td>\n",
       "      <td>0.00</td>\n",
       "      <td>2</td>\n",
       "      <td>0.0</td>\n",
       "      <td>1.0</td>\n",
       "      <td>160976.75</td>\n",
       "    </tr>\n",
       "    <tr>\n",
       "      <th>1</th>\n",
       "      <td>683</td>\n",
       "      <td>0</td>\n",
       "      <td>0</td>\n",
       "      <td>46.0</td>\n",
       "      <td>2</td>\n",
       "      <td>0.00</td>\n",
       "      <td>1</td>\n",
       "      <td>1.0</td>\n",
       "      <td>0.0</td>\n",
       "      <td>72549.27</td>\n",
       "    </tr>\n",
       "    <tr>\n",
       "      <th>2</th>\n",
       "      <td>656</td>\n",
       "      <td>0</td>\n",
       "      <td>0</td>\n",
       "      <td>34.0</td>\n",
       "      <td>7</td>\n",
       "      <td>0.00</td>\n",
       "      <td>2</td>\n",
       "      <td>1.0</td>\n",
       "      <td>0.0</td>\n",
       "      <td>138882.09</td>\n",
       "    </tr>\n",
       "    <tr>\n",
       "      <th>3</th>\n",
       "      <td>681</td>\n",
       "      <td>0</td>\n",
       "      <td>1</td>\n",
       "      <td>36.0</td>\n",
       "      <td>8</td>\n",
       "      <td>0.00</td>\n",
       "      <td>1</td>\n",
       "      <td>1.0</td>\n",
       "      <td>0.0</td>\n",
       "      <td>113931.57</td>\n",
       "    </tr>\n",
       "    <tr>\n",
       "      <th>4</th>\n",
       "      <td>752</td>\n",
       "      <td>1</td>\n",
       "      <td>1</td>\n",
       "      <td>38.0</td>\n",
       "      <td>10</td>\n",
       "      <td>121263.62</td>\n",
       "      <td>1</td>\n",
       "      <td>1.0</td>\n",
       "      <td>0.0</td>\n",
       "      <td>139431.00</td>\n",
       "    </tr>\n",
       "  </tbody>\n",
       "</table>\n",
       "</div>"
      ],
      "text/plain": [
       "   CreditScore  Geography  Gender   Age  Tenure    Balance  NumOfProducts  \\\n",
       "0          586          0       0  23.0       2       0.00              2   \n",
       "1          683          0       0  46.0       2       0.00              1   \n",
       "2          656          0       0  34.0       7       0.00              2   \n",
       "3          681          0       1  36.0       8       0.00              1   \n",
       "4          752          1       1  38.0      10  121263.62              1   \n",
       "\n",
       "   HasCrCard  IsActiveMember  EstimatedSalary  \n",
       "0        0.0             1.0        160976.75  \n",
       "1        1.0             0.0         72549.27  \n",
       "2        1.0             0.0        138882.09  \n",
       "3        1.0             0.0        113931.57  \n",
       "4        1.0             0.0        139431.00  "
      ]
     },
     "execution_count": 17,
     "metadata": {},
     "output_type": "execute_result"
    }
   ],
   "source": [
    "df_test.head()"
   ]
  },
  {
   "cell_type": "code",
   "execution_count": 18,
   "id": "7162de42",
   "metadata": {
    "execution": {
     "iopub.execute_input": "2024-01-17T09:56:45.497305Z",
     "iopub.status.busy": "2024-01-17T09:56:45.496924Z",
     "iopub.status.idle": "2024-01-17T09:56:45.503927Z",
     "shell.execute_reply": "2024-01-17T09:56:45.502619Z"
    },
    "papermill": {
     "duration": 0.02608,
     "end_time": "2024-01-17T09:56:45.506278",
     "exception": false,
     "start_time": "2024-01-17T09:56:45.480198",
     "status": "completed"
    },
    "tags": []
   },
   "outputs": [
    {
     "data": {
      "text/plain": [
       "Index(['CreditScore', 'Geography', 'Gender', 'Age', 'Tenure', 'Balance',\n",
       "       'NumOfProducts', 'HasCrCard', 'IsActiveMember', 'EstimatedSalary',\n",
       "       'Exited'],\n",
       "      dtype='object')"
      ]
     },
     "execution_count": 18,
     "metadata": {},
     "output_type": "execute_result"
    }
   ],
   "source": [
    "resampled_df.columns"
   ]
  },
  {
   "cell_type": "code",
   "execution_count": 19,
   "id": "e935ceba",
   "metadata": {
    "execution": {
     "iopub.execute_input": "2024-01-17T09:56:45.538429Z",
     "iopub.status.busy": "2024-01-17T09:56:45.538037Z",
     "iopub.status.idle": "2024-01-17T09:56:45.565578Z",
     "shell.execute_reply": "2024-01-17T09:56:45.564644Z"
    },
    "papermill": {
     "duration": 0.046679,
     "end_time": "2024-01-17T09:56:45.568031",
     "exception": false,
     "start_time": "2024-01-17T09:56:45.521352",
     "status": "completed"
    },
    "tags": []
   },
   "outputs": [],
   "source": [
    "train_x=resampled_df.drop('Exited',axis=1)\n",
    "train_y=resampled_df['Exited']"
   ]
  },
  {
   "cell_type": "code",
   "execution_count": 20,
   "id": "8c841367",
   "metadata": {
    "execution": {
     "iopub.execute_input": "2024-01-17T09:56:45.601571Z",
     "iopub.status.busy": "2024-01-17T09:56:45.601145Z",
     "iopub.status.idle": "2024-01-17T09:56:45.606055Z",
     "shell.execute_reply": "2024-01-17T09:56:45.604749Z"
    },
    "papermill": {
     "duration": 0.023922,
     "end_time": "2024-01-17T09:56:45.608276",
     "exception": false,
     "start_time": "2024-01-17T09:56:45.584354",
     "status": "completed"
    },
    "tags": []
   },
   "outputs": [],
   "source": [
    "test_x=df_test"
   ]
  },
  {
   "cell_type": "code",
   "execution_count": 21,
   "id": "a76f5ccb",
   "metadata": {
    "execution": {
     "iopub.execute_input": "2024-01-17T09:56:45.641350Z",
     "iopub.status.busy": "2024-01-17T09:56:45.640605Z",
     "iopub.status.idle": "2024-01-17T09:56:45.760503Z",
     "shell.execute_reply": "2024-01-17T09:56:45.758951Z"
    },
    "papermill": {
     "duration": 0.138979,
     "end_time": "2024-01-17T09:56:45.763122",
     "exception": false,
     "start_time": "2024-01-17T09:56:45.624143",
     "status": "completed"
    },
    "tags": []
   },
   "outputs": [
    {
     "data": {
      "text/plain": [
       "Exited             1.000000\n",
       "Age                0.396172\n",
       "Balance            0.159417\n",
       "Geography          0.066194\n",
       "EstimatedSalary    0.023731\n",
       "Tenure            -0.024429\n",
       "HasCrCard         -0.025477\n",
       "CreditScore       -0.035498\n",
       "Gender            -0.176621\n",
       "NumOfProducts     -0.239055\n",
       "IsActiveMember    -0.260164\n",
       "Name: Exited, dtype: float64"
      ]
     },
     "execution_count": 21,
     "metadata": {},
     "output_type": "execute_result"
    }
   ],
   "source": [
    "corr=resampled_df.corr()\n",
    "corr['Exited'].sort_values(ascending=False)"
   ]
  },
  {
   "cell_type": "code",
   "execution_count": 22,
   "id": "5143aa43",
   "metadata": {
    "execution": {
     "iopub.execute_input": "2024-01-17T09:56:45.798572Z",
     "iopub.status.busy": "2024-01-17T09:56:45.798162Z",
     "iopub.status.idle": "2024-01-17T09:56:46.682491Z",
     "shell.execute_reply": "2024-01-17T09:56:46.681335Z"
    },
    "papermill": {
     "duration": 0.906515,
     "end_time": "2024-01-17T09:56:46.685668",
     "exception": false,
     "start_time": "2024-01-17T09:56:45.779153",
     "status": "completed"
    },
    "tags": []
   },
   "outputs": [
    {
     "data": {
      "text/plain": [
       "<Axes: >"
      ]
     },
     "execution_count": 22,
     "metadata": {},
     "output_type": "execute_result"
    },
    {
     "data": {
      "image/png": "[encoded data removed]",
      "text/plain": [
       "<Figure size 640x480 with 2 Axes>"
      ]
     },
     "metadata": {},
     "output_type": "display_data"
    }
   ],
   "source": [
    "import seaborn as sns\n",
    "sns.heatmap(resampled_df.corr(),annot=False,cmap='coolwarm')"
   ]
  },
  {
   "cell_type": "code",
   "execution_count": 23,
   "id": "ef15f4a9",
   "metadata": {
    "execution": {
     "iopub.execute_input": "2024-01-17T09:56:46.724483Z",
     "iopub.status.busy": "2024-01-17T09:56:46.724036Z",
     "iopub.status.idle": "2024-01-17T09:56:46.961323Z",
     "shell.execute_reply": "2024-01-17T09:56:46.960122Z"
    },
    "papermill": {
     "duration": 0.259395,
     "end_time": "2024-01-17T09:56:46.963886",
     "exception": false,
     "start_time": "2024-01-17T09:56:46.704491",
     "status": "completed"
    },
    "tags": []
   },
   "outputs": [
    {
     "data": {
      "text/plain": [
       "<Axes: >"
      ]
     },
     "execution_count": 23,
     "metadata": {},
     "output_type": "execute_result"
    },
    {
     "data": {
      "image/png": "[encoded data removed]",
      "text/plain": [
       "<Figure size 640x480 with 1 Axes>"
      ]
     },
     "metadata": {},
     "output_type": "display_data"
    }
   ],
   "source": [
    "sns.boxplot(resampled_df['Age']) #for outliers in age"
   ]
  },
  {
   "cell_type": "code",
   "execution_count": 24,
   "id": "17fd41d1",
   "metadata": {
    "execution": {
     "iopub.execute_input": "2024-01-17T09:56:46.999162Z",
     "iopub.status.busy": "2024-01-17T09:56:46.998718Z",
     "iopub.status.idle": "2024-01-17T09:56:47.035768Z",
     "shell.execute_reply": "2024-01-17T09:56:47.034577Z"
    },
    "papermill": {
     "duration": 0.057651,
     "end_time": "2024-01-17T09:56:47.038472",
     "exception": false,
     "start_time": "2024-01-17T09:56:46.980821",
     "status": "completed"
    },
    "tags": []
   },
   "outputs": [
    {
     "name": "stdout",
     "output_type": "stream",
     "text": [
      "208\n"
     ]
    }
   ],
   "source": [
    "from scipy import stats\n",
    "features=[\"CreditScore\",\"Balance\",\"EstimatedSalary\"]\n",
    "z_score=np.abs(stats.zscore(resampled_df[features]))\n",
    "threshold=3\n",
    "outlier_indices=np.where(z_score>threshold)[0]\n",
    "print(len(outlier_indices))"
   ]
  },
  {
   "cell_type": "code",
   "execution_count": 25,
   "id": "a7adbe11",
   "metadata": {
    "execution": {
     "iopub.execute_input": "2024-01-17T09:56:47.077524Z",
     "iopub.status.busy": "2024-01-17T09:56:47.077104Z",
     "iopub.status.idle": "2024-01-17T09:56:47.085765Z",
     "shell.execute_reply": "2024-01-17T09:56:47.084501Z"
    },
    "papermill": {
     "duration": 0.029797,
     "end_time": "2024-01-17T09:56:47.087984",
     "exception": false,
     "start_time": "2024-01-17T09:56:47.058187",
     "status": "completed"
    },
    "tags": []
   },
   "outputs": [
    {
     "data": {
      "text/plain": [
       "CreditScore        3.573121\n",
       "Balance            0.510481\n",
       "EstimatedSalary    1.102356\n",
       "Name: 2037, dtype: float64"
      ]
     },
     "execution_count": 25,
     "metadata": {},
     "output_type": "execute_result"
    }
   ],
   "source": [
    "z_score.head()\n",
    "z_score.iloc[outlier_indices[2]] #just checking"
   ]
  },
  {
   "cell_type": "code",
   "execution_count": 26,
   "id": "63aa578e",
   "metadata": {
    "execution": {
     "iopub.execute_input": "2024-01-17T09:56:47.123900Z",
     "iopub.status.busy": "2024-01-17T09:56:47.123470Z",
     "iopub.status.idle": "2024-01-17T09:56:47.198984Z",
     "shell.execute_reply": "2024-01-17T09:56:47.197917Z"
    },
    "papermill": {
     "duration": 0.09634,
     "end_time": "2024-01-17T09:56:47.201601",
     "exception": false,
     "start_time": "2024-01-17T09:56:47.105261",
     "status": "completed"
    },
    "tags": []
   },
   "outputs": [],
   "source": [
    "train_x= train_x[(z_score<threshold).all(axis=1)].reset_index(drop= True)\n",
    "train_y= train_y[(z_score<threshold).all(axis=1)].reset_index(drop= True)"
   ]
  },
  {
   "cell_type": "code",
   "execution_count": 27,
   "id": "fbd60b4b",
   "metadata": {
    "execution": {
     "iopub.execute_input": "2024-01-17T09:56:47.237820Z",
     "iopub.status.busy": "2024-01-17T09:56:47.237413Z",
     "iopub.status.idle": "2024-01-17T09:56:47.254162Z",
     "shell.execute_reply": "2024-01-17T09:56:47.253039Z"
    },
    "papermill": {
     "duration": 0.038436,
     "end_time": "2024-01-17T09:56:47.256868",
     "exception": false,
     "start_time": "2024-01-17T09:56:47.218432",
     "status": "completed"
    },
    "tags": []
   },
   "outputs": [
    {
     "data": {
      "text/html": [
       "<div>\n",
       "<style scoped>\n",
       "    .dataframe tbody tr th:only-of-type {\n",
       "        vertical-align: middle;\n",
       "    }\n",
       "\n",
       "    .dataframe tbody tr th {\n",
       "        vertical-align: top;\n",
       "    }\n",
       "\n",
       "    .dataframe thead th {\n",
       "        text-align: right;\n",
       "    }\n",
       "</style>\n",
       "<table border=\"1\" class=\"dataframe\">\n",
       "  <thead>\n",
       "    <tr style=\"text-align: right;\">\n",
       "      <th></th>\n",
       "      <th>CreditScore</th>\n",
       "      <th>Geography</th>\n",
       "      <th>Gender</th>\n",
       "      <th>Age</th>\n",
       "      <th>Tenure</th>\n",
       "      <th>Balance</th>\n",
       "      <th>NumOfProducts</th>\n",
       "      <th>HasCrCard</th>\n",
       "      <th>IsActiveMember</th>\n",
       "      <th>EstimatedSalary</th>\n",
       "    </tr>\n",
       "  </thead>\n",
       "  <tbody>\n",
       "    <tr>\n",
       "      <th>0</th>\n",
       "      <td>586</td>\n",
       "      <td>0</td>\n",
       "      <td>0</td>\n",
       "      <td>23.0</td>\n",
       "      <td>2</td>\n",
       "      <td>0.00</td>\n",
       "      <td>2</td>\n",
       "      <td>0.0</td>\n",
       "      <td>1.0</td>\n",
       "      <td>160976.75</td>\n",
       "    </tr>\n",
       "    <tr>\n",
       "      <th>1</th>\n",
       "      <td>683</td>\n",
       "      <td>0</td>\n",
       "      <td>0</td>\n",
       "      <td>46.0</td>\n",
       "      <td>2</td>\n",
       "      <td>0.00</td>\n",
       "      <td>1</td>\n",
       "      <td>1.0</td>\n",
       "      <td>0.0</td>\n",
       "      <td>72549.27</td>\n",
       "    </tr>\n",
       "    <tr>\n",
       "      <th>2</th>\n",
       "      <td>656</td>\n",
       "      <td>0</td>\n",
       "      <td>0</td>\n",
       "      <td>34.0</td>\n",
       "      <td>7</td>\n",
       "      <td>0.00</td>\n",
       "      <td>2</td>\n",
       "      <td>1.0</td>\n",
       "      <td>0.0</td>\n",
       "      <td>138882.09</td>\n",
       "    </tr>\n",
       "    <tr>\n",
       "      <th>3</th>\n",
       "      <td>681</td>\n",
       "      <td>0</td>\n",
       "      <td>1</td>\n",
       "      <td>36.0</td>\n",
       "      <td>8</td>\n",
       "      <td>0.00</td>\n",
       "      <td>1</td>\n",
       "      <td>1.0</td>\n",
       "      <td>0.0</td>\n",
       "      <td>113931.57</td>\n",
       "    </tr>\n",
       "    <tr>\n",
       "      <th>4</th>\n",
       "      <td>752</td>\n",
       "      <td>1</td>\n",
       "      <td>1</td>\n",
       "      <td>38.0</td>\n",
       "      <td>10</td>\n",
       "      <td>121263.62</td>\n",
       "      <td>1</td>\n",
       "      <td>1.0</td>\n",
       "      <td>0.0</td>\n",
       "      <td>139431.00</td>\n",
       "    </tr>\n",
       "  </tbody>\n",
       "</table>\n",
       "</div>"
      ],
      "text/plain": [
       "   CreditScore  Geography  Gender   Age  Tenure    Balance  NumOfProducts  \\\n",
       "0          586          0       0  23.0       2       0.00              2   \n",
       "1          683          0       0  46.0       2       0.00              1   \n",
       "2          656          0       0  34.0       7       0.00              2   \n",
       "3          681          0       1  36.0       8       0.00              1   \n",
       "4          752          1       1  38.0      10  121263.62              1   \n",
       "\n",
       "   HasCrCard  IsActiveMember  EstimatedSalary  \n",
       "0        0.0             1.0        160976.75  \n",
       "1        1.0             0.0         72549.27  \n",
       "2        1.0             0.0        138882.09  \n",
       "3        1.0             0.0        113931.57  \n",
       "4        1.0             0.0        139431.00  "
      ]
     },
     "execution_count": 27,
     "metadata": {},
     "output_type": "execute_result"
    }
   ],
   "source": [
    "test_x.head()"
   ]
  },
  {
   "cell_type": "code",
   "execution_count": 28,
   "id": "7ce6899b",
   "metadata": {
    "execution": {
     "iopub.execute_input": "2024-01-17T09:56:47.296431Z",
     "iopub.status.busy": "2024-01-17T09:56:47.296016Z",
     "iopub.status.idle": "2024-01-17T09:56:47.312502Z",
     "shell.execute_reply": "2024-01-17T09:56:47.311387Z"
    },
    "papermill": {
     "duration": 0.040955,
     "end_time": "2024-01-17T09:56:47.314874",
     "exception": false,
     "start_time": "2024-01-17T09:56:47.273919",
     "status": "completed"
    },
    "tags": []
   },
   "outputs": [
    {
     "data": {
      "text/html": [
       "<div>\n",
       "<style scoped>\n",
       "    .dataframe tbody tr th:only-of-type {\n",
       "        vertical-align: middle;\n",
       "    }\n",
       "\n",
       "    .dataframe tbody tr th {\n",
       "        vertical-align: top;\n",
       "    }\n",
       "\n",
       "    .dataframe thead th {\n",
       "        text-align: right;\n",
       "    }\n",
       "</style>\n",
       "<table border=\"1\" class=\"dataframe\">\n",
       "  <thead>\n",
       "    <tr style=\"text-align: right;\">\n",
       "      <th></th>\n",
       "      <th>CreditScore</th>\n",
       "      <th>Geography</th>\n",
       "      <th>Gender</th>\n",
       "      <th>Age</th>\n",
       "      <th>Tenure</th>\n",
       "      <th>Balance</th>\n",
       "      <th>NumOfProducts</th>\n",
       "      <th>HasCrCard</th>\n",
       "      <th>IsActiveMember</th>\n",
       "      <th>EstimatedSalary</th>\n",
       "    </tr>\n",
       "  </thead>\n",
       "  <tbody>\n",
       "    <tr>\n",
       "      <th>0</th>\n",
       "      <td>668</td>\n",
       "      <td>0</td>\n",
       "      <td>1</td>\n",
       "      <td>33.0</td>\n",
       "      <td>3</td>\n",
       "      <td>0.00</td>\n",
       "      <td>2</td>\n",
       "      <td>1.0</td>\n",
       "      <td>0.0</td>\n",
       "      <td>181449.97</td>\n",
       "    </tr>\n",
       "    <tr>\n",
       "      <th>1</th>\n",
       "      <td>627</td>\n",
       "      <td>0</td>\n",
       "      <td>1</td>\n",
       "      <td>33.0</td>\n",
       "      <td>1</td>\n",
       "      <td>0.00</td>\n",
       "      <td>2</td>\n",
       "      <td>1.0</td>\n",
       "      <td>1.0</td>\n",
       "      <td>49503.50</td>\n",
       "    </tr>\n",
       "    <tr>\n",
       "      <th>2</th>\n",
       "      <td>678</td>\n",
       "      <td>0</td>\n",
       "      <td>1</td>\n",
       "      <td>40.0</td>\n",
       "      <td>10</td>\n",
       "      <td>0.00</td>\n",
       "      <td>2</td>\n",
       "      <td>1.0</td>\n",
       "      <td>0.0</td>\n",
       "      <td>184866.69</td>\n",
       "    </tr>\n",
       "    <tr>\n",
       "      <th>3</th>\n",
       "      <td>581</td>\n",
       "      <td>0</td>\n",
       "      <td>1</td>\n",
       "      <td>34.0</td>\n",
       "      <td>2</td>\n",
       "      <td>148882.54</td>\n",
       "      <td>1</td>\n",
       "      <td>1.0</td>\n",
       "      <td>1.0</td>\n",
       "      <td>84560.88</td>\n",
       "    </tr>\n",
       "    <tr>\n",
       "      <th>4</th>\n",
       "      <td>716</td>\n",
       "      <td>2</td>\n",
       "      <td>1</td>\n",
       "      <td>33.0</td>\n",
       "      <td>5</td>\n",
       "      <td>0.00</td>\n",
       "      <td>2</td>\n",
       "      <td>1.0</td>\n",
       "      <td>1.0</td>\n",
       "      <td>15068.83</td>\n",
       "    </tr>\n",
       "  </tbody>\n",
       "</table>\n",
       "</div>"
      ],
      "text/plain": [
       "   CreditScore  Geography  Gender   Age  Tenure    Balance  NumOfProducts  \\\n",
       "0          668          0       1  33.0       3       0.00              2   \n",
       "1          627          0       1  33.0       1       0.00              2   \n",
       "2          678          0       1  40.0      10       0.00              2   \n",
       "3          581          0       1  34.0       2  148882.54              1   \n",
       "4          716          2       1  33.0       5       0.00              2   \n",
       "\n",
       "   HasCrCard  IsActiveMember  EstimatedSalary  \n",
       "0        1.0             0.0        181449.97  \n",
       "1        1.0             1.0         49503.50  \n",
       "2        1.0             0.0        184866.69  \n",
       "3        1.0             1.0         84560.88  \n",
       "4        1.0             1.0         15068.83  "
      ]
     },
     "execution_count": 28,
     "metadata": {},
     "output_type": "execute_result"
    }
   ],
   "source": [
    "train_x.head()"
   ]
  },
  {
   "cell_type": "code",
   "execution_count": 29,
   "id": "a1d76691",
   "metadata": {
    "execution": {
     "iopub.execute_input": "2024-01-17T09:56:47.357778Z",
     "iopub.status.busy": "2024-01-17T09:56:47.357005Z",
     "iopub.status.idle": "2024-01-17T09:56:47.438251Z",
     "shell.execute_reply": "2024-01-17T09:56:47.436979Z"
    },
    "papermill": {
     "duration": 0.105807,
     "end_time": "2024-01-17T09:56:47.440960",
     "exception": false,
     "start_time": "2024-01-17T09:56:47.335153",
     "status": "completed"
    },
    "tags": []
   },
   "outputs": [],
   "source": [
    "from sklearn.preprocessing import MinMaxScaler\n",
    "from sklearn.model_selection import train_test_split\n",
    "\n",
    "x_train,x_test,y_train,y_test=train_test_split(train_x,train_y,test_size=0.33,random_state=42)\n",
    "scaler=MinMaxScaler()\n",
    "scaler.fit(x_train)\n",
    "x_train=scaler.transform(x_train)\n",
    "x_test=scaler.transform(x_test)"
   ]
  },
  {
   "cell_type": "code",
   "execution_count": 30,
   "id": "56b9e551",
   "metadata": {
    "execution": {
     "iopub.execute_input": "2024-01-17T09:56:47.477542Z",
     "iopub.status.busy": "2024-01-17T09:56:47.477088Z",
     "iopub.status.idle": "2024-01-17T09:56:47.494615Z",
     "shell.execute_reply": "2024-01-17T09:56:47.493321Z"
    },
    "papermill": {
     "duration": 0.039968,
     "end_time": "2024-01-17T09:56:47.498139",
     "exception": false,
     "start_time": "2024-01-17T09:56:47.458171",
     "status": "completed"
    },
    "tags": []
   },
   "outputs": [
    {
     "data": {
      "text/html": [
       "<div>\n",
       "<style scoped>\n",
       "    .dataframe tbody tr th:only-of-type {\n",
       "        vertical-align: middle;\n",
       "    }\n",
       "\n",
       "    .dataframe tbody tr th {\n",
       "        vertical-align: top;\n",
       "    }\n",
       "\n",
       "    .dataframe thead th {\n",
       "        text-align: right;\n",
       "    }\n",
       "</style>\n",
       "<table border=\"1\" class=\"dataframe\">\n",
       "  <thead>\n",
       "    <tr style=\"text-align: right;\">\n",
       "      <th></th>\n",
       "      <th>CreditScore</th>\n",
       "      <th>Geography</th>\n",
       "      <th>Gender</th>\n",
       "      <th>Age</th>\n",
       "      <th>Tenure</th>\n",
       "      <th>Balance</th>\n",
       "      <th>NumOfProducts</th>\n",
       "      <th>HasCrCard</th>\n",
       "      <th>IsActiveMember</th>\n",
       "      <th>EstimatedSalary</th>\n",
       "    </tr>\n",
       "  </thead>\n",
       "  <tbody>\n",
       "    <tr>\n",
       "      <th>0</th>\n",
       "      <td>586</td>\n",
       "      <td>0</td>\n",
       "      <td>0</td>\n",
       "      <td>23.0</td>\n",
       "      <td>2</td>\n",
       "      <td>0.00</td>\n",
       "      <td>2</td>\n",
       "      <td>0.0</td>\n",
       "      <td>1.0</td>\n",
       "      <td>160976.75</td>\n",
       "    </tr>\n",
       "    <tr>\n",
       "      <th>1</th>\n",
       "      <td>683</td>\n",
       "      <td>0</td>\n",
       "      <td>0</td>\n",
       "      <td>46.0</td>\n",
       "      <td>2</td>\n",
       "      <td>0.00</td>\n",
       "      <td>1</td>\n",
       "      <td>1.0</td>\n",
       "      <td>0.0</td>\n",
       "      <td>72549.27</td>\n",
       "    </tr>\n",
       "    <tr>\n",
       "      <th>2</th>\n",
       "      <td>656</td>\n",
       "      <td>0</td>\n",
       "      <td>0</td>\n",
       "      <td>34.0</td>\n",
       "      <td>7</td>\n",
       "      <td>0.00</td>\n",
       "      <td>2</td>\n",
       "      <td>1.0</td>\n",
       "      <td>0.0</td>\n",
       "      <td>138882.09</td>\n",
       "    </tr>\n",
       "    <tr>\n",
       "      <th>3</th>\n",
       "      <td>681</td>\n",
       "      <td>0</td>\n",
       "      <td>1</td>\n",
       "      <td>36.0</td>\n",
       "      <td>8</td>\n",
       "      <td>0.00</td>\n",
       "      <td>1</td>\n",
       "      <td>1.0</td>\n",
       "      <td>0.0</td>\n",
       "      <td>113931.57</td>\n",
       "    </tr>\n",
       "    <tr>\n",
       "      <th>4</th>\n",
       "      <td>752</td>\n",
       "      <td>1</td>\n",
       "      <td>1</td>\n",
       "      <td>38.0</td>\n",
       "      <td>10</td>\n",
       "      <td>121263.62</td>\n",
       "      <td>1</td>\n",
       "      <td>1.0</td>\n",
       "      <td>0.0</td>\n",
       "      <td>139431.00</td>\n",
       "    </tr>\n",
       "  </tbody>\n",
       "</table>\n",
       "</div>"
      ],
      "text/plain": [
       "   CreditScore  Geography  Gender   Age  Tenure    Balance  NumOfProducts  \\\n",
       "0          586          0       0  23.0       2       0.00              2   \n",
       "1          683          0       0  46.0       2       0.00              1   \n",
       "2          656          0       0  34.0       7       0.00              2   \n",
       "3          681          0       1  36.0       8       0.00              1   \n",
       "4          752          1       1  38.0      10  121263.62              1   \n",
       "\n",
       "   HasCrCard  IsActiveMember  EstimatedSalary  \n",
       "0        0.0             1.0        160976.75  \n",
       "1        1.0             0.0         72549.27  \n",
       "2        1.0             0.0        138882.09  \n",
       "3        1.0             0.0        113931.57  \n",
       "4        1.0             0.0        139431.00  "
      ]
     },
     "execution_count": 30,
     "metadata": {},
     "output_type": "execute_result"
    }
   ],
   "source": [
    "df_test.head()\n",
    "#df_test=df_test.drop('Exited',axis=1)\n",
    "# test_y=test_x['Exited']\n",
    "# test_x=test_x.drop('Exited',axis=1)"
   ]
  },
  {
   "cell_type": "code",
   "execution_count": 31,
   "id": "f2b6f669",
   "metadata": {
    "execution": {
     "iopub.execute_input": "2024-01-17T09:56:47.535467Z",
     "iopub.status.busy": "2024-01-17T09:56:47.535080Z",
     "iopub.status.idle": "2024-01-17T09:56:47.549426Z",
     "shell.execute_reply": "2024-01-17T09:56:47.548208Z"
    },
    "papermill": {
     "duration": 0.036422,
     "end_time": "2024-01-17T09:56:47.551976",
     "exception": false,
     "start_time": "2024-01-17T09:56:47.515554",
     "status": "completed"
    },
    "tags": []
   },
   "outputs": [],
   "source": [
    "scaled=scaler.transform(test_x)"
   ]
  },
  {
   "cell_type": "code",
   "execution_count": 32,
   "id": "929dbe89",
   "metadata": {
    "execution": {
     "iopub.execute_input": "2024-01-17T09:56:47.588722Z",
     "iopub.status.busy": "2024-01-17T09:56:47.588309Z",
     "iopub.status.idle": "2024-01-17T09:56:47.607903Z",
     "shell.execute_reply": "2024-01-17T09:56:47.606843Z"
    },
    "papermill": {
     "duration": 0.040726,
     "end_time": "2024-01-17T09:56:47.610376",
     "exception": false,
     "start_time": "2024-01-17T09:56:47.569650",
     "status": "completed"
    },
    "tags": []
   },
   "outputs": [
    {
     "data": {
      "text/html": [
       "<div>\n",
       "<style scoped>\n",
       "    .dataframe tbody tr th:only-of-type {\n",
       "        vertical-align: middle;\n",
       "    }\n",
       "\n",
       "    .dataframe tbody tr th {\n",
       "        vertical-align: top;\n",
       "    }\n",
       "\n",
       "    .dataframe thead th {\n",
       "        text-align: right;\n",
       "    }\n",
       "</style>\n",
       "<table border=\"1\" class=\"dataframe\">\n",
       "  <thead>\n",
       "    <tr style=\"text-align: right;\">\n",
       "      <th></th>\n",
       "      <th>CreditScore</th>\n",
       "      <th>Geography</th>\n",
       "      <th>Gender</th>\n",
       "      <th>Age</th>\n",
       "      <th>Tenure</th>\n",
       "      <th>Balance</th>\n",
       "      <th>NumOfProducts</th>\n",
       "      <th>HasCrCard</th>\n",
       "      <th>IsActiveMember</th>\n",
       "      <th>EstimatedSalary</th>\n",
       "    </tr>\n",
       "  </thead>\n",
       "  <tbody>\n",
       "    <tr>\n",
       "      <th>0</th>\n",
       "      <td>0.394495</td>\n",
       "      <td>0.0</td>\n",
       "      <td>0.0</td>\n",
       "      <td>0.067568</td>\n",
       "      <td>0.2</td>\n",
       "      <td>0.000000</td>\n",
       "      <td>0.333333</td>\n",
       "      <td>0.0</td>\n",
       "      <td>1.0</td>\n",
       "      <td>0.804903</td>\n",
       "    </tr>\n",
       "    <tr>\n",
       "      <th>1</th>\n",
       "      <td>0.616972</td>\n",
       "      <td>0.0</td>\n",
       "      <td>0.0</td>\n",
       "      <td>0.378378</td>\n",
       "      <td>0.2</td>\n",
       "      <td>0.000000</td>\n",
       "      <td>0.000000</td>\n",
       "      <td>1.0</td>\n",
       "      <td>0.0</td>\n",
       "      <td>0.362723</td>\n",
       "    </tr>\n",
       "    <tr>\n",
       "      <th>2</th>\n",
       "      <td>0.555046</td>\n",
       "      <td>0.0</td>\n",
       "      <td>0.0</td>\n",
       "      <td>0.216216</td>\n",
       "      <td>0.7</td>\n",
       "      <td>0.000000</td>\n",
       "      <td>0.333333</td>\n",
       "      <td>1.0</td>\n",
       "      <td>0.0</td>\n",
       "      <td>0.694419</td>\n",
       "    </tr>\n",
       "    <tr>\n",
       "      <th>3</th>\n",
       "      <td>0.612385</td>\n",
       "      <td>0.0</td>\n",
       "      <td>1.0</td>\n",
       "      <td>0.243243</td>\n",
       "      <td>0.8</td>\n",
       "      <td>0.000000</td>\n",
       "      <td>0.000000</td>\n",
       "      <td>1.0</td>\n",
       "      <td>0.0</td>\n",
       "      <td>0.569654</td>\n",
       "    </tr>\n",
       "    <tr>\n",
       "      <th>4</th>\n",
       "      <td>0.775229</td>\n",
       "      <td>0.5</td>\n",
       "      <td>1.0</td>\n",
       "      <td>0.270270</td>\n",
       "      <td>1.0</td>\n",
       "      <td>0.508683</td>\n",
       "      <td>0.000000</td>\n",
       "      <td>1.0</td>\n",
       "      <td>0.0</td>\n",
       "      <td>0.697164</td>\n",
       "    </tr>\n",
       "  </tbody>\n",
       "</table>\n",
       "</div>"
      ],
      "text/plain": [
       "   CreditScore  Geography  Gender       Age  Tenure   Balance  NumOfProducts  \\\n",
       "0     0.394495        0.0     0.0  0.067568     0.2  0.000000       0.333333   \n",
       "1     0.616972        0.0     0.0  0.378378     0.2  0.000000       0.000000   \n",
       "2     0.555046        0.0     0.0  0.216216     0.7  0.000000       0.333333   \n",
       "3     0.612385        0.0     1.0  0.243243     0.8  0.000000       0.000000   \n",
       "4     0.775229        0.5     1.0  0.270270     1.0  0.508683       0.000000   \n",
       "\n",
       "   HasCrCard  IsActiveMember  EstimatedSalary  \n",
       "0        0.0             1.0         0.804903  \n",
       "1        1.0             0.0         0.362723  \n",
       "2        1.0             0.0         0.694419  \n",
       "3        1.0             0.0         0.569654  \n",
       "4        1.0             0.0         0.697164  "
      ]
     },
     "execution_count": 32,
     "metadata": {},
     "output_type": "execute_result"
    }
   ],
   "source": [
    "test_x_scaled=pd.DataFrame(scaled,columns=test_x.columns)\n",
    "test_x_scaled.head()"
   ]
  },
  {
   "cell_type": "code",
   "execution_count": 33,
   "id": "b2898e73",
   "metadata": {
    "execution": {
     "iopub.execute_input": "2024-01-17T09:56:47.651199Z",
     "iopub.status.busy": "2024-01-17T09:56:47.650831Z",
     "iopub.status.idle": "2024-01-17T09:56:47.654976Z",
     "shell.execute_reply": "2024-01-17T09:56:47.653873Z"
    },
    "papermill": {
     "duration": 0.028188,
     "end_time": "2024-01-17T09:56:47.657418",
     "exception": false,
     "start_time": "2024-01-17T09:56:47.629230",
     "status": "completed"
    },
    "tags": []
   },
   "outputs": [],
   "source": [
    "#scaler.fit(df_test)\n",
    "# scaled=scaler.transform(df_test)\n",
    "# test_x_scaled=pd.DataFrame(scaled,columns=df_test.columns)"
   ]
  },
  {
   "cell_type": "markdown",
   "id": "8fa159e4",
   "metadata": {
    "papermill": {
     "duration": 0.018145,
     "end_time": "2024-01-17T09:56:47.693484",
     "exception": false,
     "start_time": "2024-01-17T09:56:47.675339",
     "status": "completed"
    },
    "tags": []
   },
   "source": [
    "## Model  <a class=\"anchor\"  id=\"chapter4\"></a>"
   ]
  },
  {
   "cell_type": "code",
   "execution_count": 34,
   "id": "2973c91e",
   "metadata": {
    "execution": {
     "iopub.execute_input": "2024-01-17T09:56:47.732592Z",
     "iopub.status.busy": "2024-01-17T09:56:47.732129Z",
     "iopub.status.idle": "2024-01-17T09:57:37.171100Z",
     "shell.execute_reply": "2024-01-17T09:57:37.169847Z"
    },
    "papermill": {
     "duration": 49.461385,
     "end_time": "2024-01-17T09:57:37.173733",
     "exception": false,
     "start_time": "2024-01-17T09:56:47.712348",
     "status": "completed"
    },
    "tags": []
   },
   "outputs": [],
   "source": [
    "from sklearn.ensemble import RandomForestClassifier\n",
    "from sklearn.metrics import classification_report,confusion_matrix, accuracy_score, roc_curve, auc\n",
    "\n",
    "model=RandomForestClassifier()\n",
    "model.fit(x_train,y_train)\n",
    "pred=model.predict(x_test)\n",
    "pred_prob=model.predict_proba(x_test)[:,1]"
   ]
  },
  {
   "cell_type": "code",
   "execution_count": 35,
   "id": "8513b6b6",
   "metadata": {
    "execution": {
     "iopub.execute_input": "2024-01-17T09:57:37.210754Z",
     "iopub.status.busy": "2024-01-17T09:57:37.210305Z",
     "iopub.status.idle": "2024-01-17T09:57:37.402333Z",
     "shell.execute_reply": "2024-01-17T09:57:37.400843Z"
    },
    "papermill": {
     "duration": 0.213528,
     "end_time": "2024-01-17T09:57:37.404832",
     "exception": false,
     "start_time": "2024-01-17T09:57:37.191304",
     "status": "completed"
    },
    "tags": []
   },
   "outputs": [
    {
     "name": "stdout",
     "output_type": "stream",
     "text": [
      "              precision    recall  f1-score   support\n",
      "\n",
      "           0       0.97      0.89      0.93     42759\n",
      "           1       0.90      0.97      0.94     43047\n",
      "\n",
      "    accuracy                           0.93     85806\n",
      "   macro avg       0.94      0.93      0.93     85806\n",
      "weighted avg       0.94      0.93      0.93     85806\n",
      "\n",
      "[[38230  4529]\n",
      " [ 1127 41920]]\n"
     ]
    }
   ],
   "source": [
    "print(classification_report(y_test,pred))\n",
    "print(confusion_matrix(y_test,pred))"
   ]
  },
  {
   "cell_type": "code",
   "execution_count": 36,
   "id": "56247165",
   "metadata": {
    "execution": {
     "iopub.execute_input": "2024-01-17T09:57:37.441718Z",
     "iopub.status.busy": "2024-01-17T09:57:37.441329Z",
     "iopub.status.idle": "2024-01-17T09:57:37.747156Z",
     "shell.execute_reply": "2024-01-17T09:57:37.745951Z"
    },
    "papermill": {
     "duration": 0.327622,
     "end_time": "2024-01-17T09:57:37.749896",
     "exception": false,
     "start_time": "2024-01-17T09:57:37.422274",
     "status": "completed"
    },
    "tags": []
   },
   "outputs": [
    {
     "name": "stdout",
     "output_type": "stream",
     "text": [
      "AUC:  0.9846475581574041 \n",
      "\n"
     ]
    },
    {
     "data": {
      "image/png": "[encoded data removed]",
      "text/plain": [
       "<Figure size 640x480 with 1 Axes>"
      ]
     },
     "metadata": {},
     "output_type": "display_data"
    }
   ],
   "source": [
    "fpr_rnd_forest, tpr_rnd_forest, thresholds = roc_curve(y_test,pred_prob)\n",
    "plt.plot(fpr_rnd_forest,tpr_rnd_forest,color='orange');\n",
    "plt.title('ROC Curve with Random Forest')\n",
    "plt.xlabel('FPR')\n",
    "plt.ylabel('TPR')\n",
    "print('AUC: ',auc(fpr_rnd_forest,tpr_rnd_forest),'\\n')"
   ]
  },
  {
   "cell_type": "code",
   "execution_count": 37,
   "id": "b3b63df0",
   "metadata": {
    "execution": {
     "iopub.execute_input": "2024-01-17T09:57:37.790218Z",
     "iopub.status.busy": "2024-01-17T09:57:37.789593Z",
     "iopub.status.idle": "2024-01-17T09:57:41.460009Z",
     "shell.execute_reply": "2024-01-17T09:57:41.458960Z"
    },
    "papermill": {
     "duration": 3.694024,
     "end_time": "2024-01-17T09:57:41.462428",
     "exception": false,
     "start_time": "2024-01-17T09:57:37.768404",
     "status": "completed"
    },
    "tags": []
   },
   "outputs": [
    {
     "name": "stderr",
     "output_type": "stream",
     "text": [
      "/opt/conda/lib/python3.10/site-packages/sklearn/base.py:432: UserWarning: X has feature names, but RandomForestClassifier was fitted without feature names\n",
      "  warnings.warn(\n"
     ]
    },
    {
     "data": {
      "text/plain": [
       "array([0.05, 0.95, 0.  , ..., 0.  , 0.18, 0.27])"
      ]
     },
     "execution_count": 37,
     "metadata": {},
     "output_type": "execute_result"
    }
   ],
   "source": [
    "pred_prob= model.predict_proba(test_x_scaled)[:,1]\n",
    "pred_prob"
   ]
  },
  {
   "cell_type": "code",
   "execution_count": 38,
   "id": "7a9b4286",
   "metadata": {
    "execution": {
     "iopub.execute_input": "2024-01-17T09:57:41.503159Z",
     "iopub.status.busy": "2024-01-17T09:57:41.502775Z",
     "iopub.status.idle": "2024-01-17T09:57:41.523856Z",
     "shell.execute_reply": "2024-01-17T09:57:41.522861Z"
    },
    "papermill": {
     "duration": 0.04506,
     "end_time": "2024-01-17T09:57:41.526446",
     "exception": false,
     "start_time": "2024-01-17T09:57:41.481386",
     "status": "completed"
    },
    "tags": []
   },
   "outputs": [
    {
     "data": {
      "text/html": [
       "<div>\n",
       "<style scoped>\n",
       "    .dataframe tbody tr th:only-of-type {\n",
       "        vertical-align: middle;\n",
       "    }\n",
       "\n",
       "    .dataframe tbody tr th {\n",
       "        vertical-align: top;\n",
       "    }\n",
       "\n",
       "    .dataframe thead th {\n",
       "        text-align: right;\n",
       "    }\n",
       "</style>\n",
       "<table border=\"1\" class=\"dataframe\">\n",
       "  <thead>\n",
       "    <tr style=\"text-align: right;\">\n",
       "      <th></th>\n",
       "      <th>CreditScore</th>\n",
       "      <th>Geography</th>\n",
       "      <th>Gender</th>\n",
       "      <th>Age</th>\n",
       "      <th>Tenure</th>\n",
       "      <th>Balance</th>\n",
       "      <th>NumOfProducts</th>\n",
       "      <th>HasCrCard</th>\n",
       "      <th>IsActiveMember</th>\n",
       "      <th>EstimatedSalary</th>\n",
       "    </tr>\n",
       "  </thead>\n",
       "  <tbody>\n",
       "    <tr>\n",
       "      <th>0</th>\n",
       "      <td>0.394495</td>\n",
       "      <td>0.0</td>\n",
       "      <td>0.0</td>\n",
       "      <td>0.067568</td>\n",
       "      <td>0.2</td>\n",
       "      <td>0.000000</td>\n",
       "      <td>0.333333</td>\n",
       "      <td>0.0</td>\n",
       "      <td>1.0</td>\n",
       "      <td>0.804903</td>\n",
       "    </tr>\n",
       "    <tr>\n",
       "      <th>1</th>\n",
       "      <td>0.616972</td>\n",
       "      <td>0.0</td>\n",
       "      <td>0.0</td>\n",
       "      <td>0.378378</td>\n",
       "      <td>0.2</td>\n",
       "      <td>0.000000</td>\n",
       "      <td>0.000000</td>\n",
       "      <td>1.0</td>\n",
       "      <td>0.0</td>\n",
       "      <td>0.362723</td>\n",
       "    </tr>\n",
       "    <tr>\n",
       "      <th>2</th>\n",
       "      <td>0.555046</td>\n",
       "      <td>0.0</td>\n",
       "      <td>0.0</td>\n",
       "      <td>0.216216</td>\n",
       "      <td>0.7</td>\n",
       "      <td>0.000000</td>\n",
       "      <td>0.333333</td>\n",
       "      <td>1.0</td>\n",
       "      <td>0.0</td>\n",
       "      <td>0.694419</td>\n",
       "    </tr>\n",
       "    <tr>\n",
       "      <th>3</th>\n",
       "      <td>0.612385</td>\n",
       "      <td>0.0</td>\n",
       "      <td>1.0</td>\n",
       "      <td>0.243243</td>\n",
       "      <td>0.8</td>\n",
       "      <td>0.000000</td>\n",
       "      <td>0.000000</td>\n",
       "      <td>1.0</td>\n",
       "      <td>0.0</td>\n",
       "      <td>0.569654</td>\n",
       "    </tr>\n",
       "    <tr>\n",
       "      <th>4</th>\n",
       "      <td>0.775229</td>\n",
       "      <td>0.5</td>\n",
       "      <td>1.0</td>\n",
       "      <td>0.270270</td>\n",
       "      <td>1.0</td>\n",
       "      <td>0.508683</td>\n",
       "      <td>0.000000</td>\n",
       "      <td>1.0</td>\n",
       "      <td>0.0</td>\n",
       "      <td>0.697164</td>\n",
       "    </tr>\n",
       "    <tr>\n",
       "      <th>...</th>\n",
       "      <td>...</td>\n",
       "      <td>...</td>\n",
       "      <td>...</td>\n",
       "      <td>...</td>\n",
       "      <td>...</td>\n",
       "      <td>...</td>\n",
       "      <td>...</td>\n",
       "      <td>...</td>\n",
       "      <td>...</td>\n",
       "      <td>...</td>\n",
       "    </tr>\n",
       "    <tr>\n",
       "      <th>110018</th>\n",
       "      <td>0.357798</td>\n",
       "      <td>1.0</td>\n",
       "      <td>1.0</td>\n",
       "      <td>0.148649</td>\n",
       "      <td>0.7</td>\n",
       "      <td>0.487021</td>\n",
       "      <td>0.000000</td>\n",
       "      <td>1.0</td>\n",
       "      <td>1.0</td>\n",
       "      <td>0.740451</td>\n",
       "    </tr>\n",
       "    <tr>\n",
       "      <th>110019</th>\n",
       "      <td>0.369266</td>\n",
       "      <td>0.0</td>\n",
       "      <td>0.0</td>\n",
       "      <td>0.243243</td>\n",
       "      <td>0.4</td>\n",
       "      <td>0.746820</td>\n",
       "      <td>0.000000</td>\n",
       "      <td>1.0</td>\n",
       "      <td>1.0</td>\n",
       "      <td>0.210871</td>\n",
       "    </tr>\n",
       "    <tr>\n",
       "      <th>110020</th>\n",
       "      <td>0.683486</td>\n",
       "      <td>0.0</td>\n",
       "      <td>1.0</td>\n",
       "      <td>0.175676</td>\n",
       "      <td>0.2</td>\n",
       "      <td>0.000000</td>\n",
       "      <td>0.333333</td>\n",
       "      <td>1.0</td>\n",
       "      <td>0.0</td>\n",
       "      <td>0.081387</td>\n",
       "    </tr>\n",
       "    <tr>\n",
       "      <th>110021</th>\n",
       "      <td>0.676606</td>\n",
       "      <td>0.0</td>\n",
       "      <td>0.0</td>\n",
       "      <td>0.189189</td>\n",
       "      <td>0.3</td>\n",
       "      <td>0.000000</td>\n",
       "      <td>0.000000</td>\n",
       "      <td>1.0</td>\n",
       "      <td>1.0</td>\n",
       "      <td>0.794101</td>\n",
       "    </tr>\n",
       "    <tr>\n",
       "      <th>110022</th>\n",
       "      <td>0.474771</td>\n",
       "      <td>0.0</td>\n",
       "      <td>0.0</td>\n",
       "      <td>0.256757</td>\n",
       "      <td>0.7</td>\n",
       "      <td>0.368511</td>\n",
       "      <td>0.000000</td>\n",
       "      <td>1.0</td>\n",
       "      <td>0.0</td>\n",
       "      <td>0.121006</td>\n",
       "    </tr>\n",
       "  </tbody>\n",
       "</table>\n",
       "<p>110023 rows × 10 columns</p>\n",
       "</div>"
      ],
      "text/plain": [
       "        CreditScore  Geography  Gender       Age  Tenure   Balance  \\\n",
       "0          0.394495        0.0     0.0  0.067568     0.2  0.000000   \n",
       "1          0.616972        0.0     0.0  0.378378     0.2  0.000000   \n",
       "2          0.555046        0.0     0.0  0.216216     0.7  0.000000   \n",
       "3          0.612385        0.0     1.0  0.243243     0.8  0.000000   \n",
       "4          0.775229        0.5     1.0  0.270270     1.0  0.508683   \n",
       "...             ...        ...     ...       ...     ...       ...   \n",
       "110018     0.357798        1.0     1.0  0.148649     0.7  0.487021   \n",
       "110019     0.369266        0.0     0.0  0.243243     0.4  0.746820   \n",
       "110020     0.683486        0.0     1.0  0.175676     0.2  0.000000   \n",
       "110021     0.676606        0.0     0.0  0.189189     0.3  0.000000   \n",
       "110022     0.474771        0.0     0.0  0.256757     0.7  0.368511   \n",
       "\n",
       "        NumOfProducts  HasCrCard  IsActiveMember  EstimatedSalary  \n",
       "0            0.333333        0.0             1.0         0.804903  \n",
       "1            0.000000        1.0             0.0         0.362723  \n",
       "2            0.333333        1.0             0.0         0.694419  \n",
       "3            0.000000        1.0             0.0         0.569654  \n",
       "4            0.000000        1.0             0.0         0.697164  \n",
       "...               ...        ...             ...              ...  \n",
       "110018       0.000000        1.0             1.0         0.740451  \n",
       "110019       0.000000        1.0             1.0         0.210871  \n",
       "110020       0.333333        1.0             0.0         0.081387  \n",
       "110021       0.000000        1.0             1.0         0.794101  \n",
       "110022       0.000000        1.0             0.0         0.121006  \n",
       "\n",
       "[110023 rows x 10 columns]"
      ]
     },
     "execution_count": 38,
     "metadata": {},
     "output_type": "execute_result"
    }
   ],
   "source": [
    "test_x_scaled"
   ]
  },
  {
   "cell_type": "code",
   "execution_count": 39,
   "id": "8fdbf0fb",
   "metadata": {
    "execution": {
     "iopub.execute_input": "2024-01-17T09:57:41.565755Z",
     "iopub.status.busy": "2024-01-17T09:57:41.564954Z",
     "iopub.status.idle": "2024-01-17T09:57:41.576736Z",
     "shell.execute_reply": "2024-01-17T09:57:41.575624Z"
    },
    "papermill": {
     "duration": 0.034117,
     "end_time": "2024-01-17T09:57:41.579119",
     "exception": false,
     "start_time": "2024-01-17T09:57:41.545002",
     "status": "completed"
    },
    "tags": []
   },
   "outputs": [
    {
     "data": {
      "text/html": [
       "<div>\n",
       "<style scoped>\n",
       "    .dataframe tbody tr th:only-of-type {\n",
       "        vertical-align: middle;\n",
       "    }\n",
       "\n",
       "    .dataframe tbody tr th {\n",
       "        vertical-align: top;\n",
       "    }\n",
       "\n",
       "    .dataframe thead th {\n",
       "        text-align: right;\n",
       "    }\n",
       "</style>\n",
       "<table border=\"1\" class=\"dataframe\">\n",
       "  <thead>\n",
       "    <tr style=\"text-align: right;\">\n",
       "      <th></th>\n",
       "      <th>id</th>\n",
       "      <th>Exited</th>\n",
       "    </tr>\n",
       "  </thead>\n",
       "  <tbody>\n",
       "    <tr>\n",
       "      <th>0</th>\n",
       "      <td>165034</td>\n",
       "      <td>0.05</td>\n",
       "    </tr>\n",
       "    <tr>\n",
       "      <th>1</th>\n",
       "      <td>165035</td>\n",
       "      <td>0.95</td>\n",
       "    </tr>\n",
       "    <tr>\n",
       "      <th>2</th>\n",
       "      <td>165036</td>\n",
       "      <td>0.00</td>\n",
       "    </tr>\n",
       "    <tr>\n",
       "      <th>3</th>\n",
       "      <td>165037</td>\n",
       "      <td>0.29</td>\n",
       "    </tr>\n",
       "    <tr>\n",
       "      <th>4</th>\n",
       "      <td>165038</td>\n",
       "      <td>0.39</td>\n",
       "    </tr>\n",
       "  </tbody>\n",
       "</table>\n",
       "</div>"
      ],
      "text/plain": [
       "       id  Exited\n",
       "0  165034    0.05\n",
       "1  165035    0.95\n",
       "2  165036    0.00\n",
       "3  165037    0.29\n",
       "4  165038    0.39"
      ]
     },
     "execution_count": 39,
     "metadata": {},
     "output_type": "execute_result"
    }
   ],
   "source": [
    "pred_prob= pd.Series(pred_prob)\n",
    "submission_df= pd.DataFrame({'id': test['id'], 'Exited': pred_prob})\n",
    "submission_df.head()"
   ]
  },
  {
   "cell_type": "code",
   "execution_count": 40,
   "id": "52f9ccb3",
   "metadata": {
    "execution": {
     "iopub.execute_input": "2024-01-17T09:57:41.619858Z",
     "iopub.status.busy": "2024-01-17T09:57:41.619426Z",
     "iopub.status.idle": "2024-01-17T09:57:41.812516Z",
     "shell.execute_reply": "2024-01-17T09:57:41.811335Z"
    },
    "papermill": {
     "duration": 0.217087,
     "end_time": "2024-01-17T09:57:41.815121",
     "exception": false,
     "start_time": "2024-01-17T09:57:41.598034",
     "status": "completed"
    },
    "tags": []
   },
   "outputs": [],
   "source": [
    "submission_df.to_csv(\"submission.csv\", index=False)"
   ]
  },
  {
   "cell_type": "markdown",
   "id": "b0b03c77",
   "metadata": {
    "papermill": {
     "duration": 0.019885,
     "end_time": "2024-01-17T09:57:41.854093",
     "exception": false,
     "start_time": "2024-01-17T09:57:41.834208",
     "status": "completed"
    },
    "tags": []
   },
   "source": [
    "**Finish**"
   ]
  }
 ],
 "metadata": {
  "kaggle": {
   "accelerator": "none",
   "dataSources": [
    {
     "databundleVersionId": 7405009,
     "sourceId": 65711,
     "sourceType": "competition"
    }
   ],
   "dockerImageVersionId": 30635,
   "isGpuEnabled": false,
   "isInternetEnabled": false,
   "language": "python",
   "sourceType": "notebook"
  },
  "kernelspec": {
   "display_name": "Python 3",
   "language": "python",
   "name": "python3"
  },
  "language_info": {
   "codemirror_mode": {
    "name": "ipython",
    "version": 3
   },
   "file_extension": ".py",
   "mimetype": "text/x-python",
   "name": "python",
   "nbconvert_exporter": "python",
   "pygments_lexer": "ipython3",
   "version": "3.10.12"
  },
  "papermill": {
   "default_parameters": {},
   "duration": 69.169568,
   "end_time": "2024-01-17T09:57:42.696043",
   "environment_variables": {},
   "exception": null,
   "input_path": "__notebook__.ipynb",
   "output_path": "__notebook__.ipynb",
   "parameters": {},
   "start_time": "2024-01-17T09:56:33.526475",
   "version": "2.4.0"
  }
 },
 "nbformat": 4,
 "nbformat_minor": 5
}
